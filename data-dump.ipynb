{
 "cells": [
  {
   "cell_type": "code",
   "execution_count": 2,
   "id": "930c44b1",
   "metadata": {},
   "outputs": [],
   "source": [
    "import pandas as pd"
   ]
  },
  {
   "cell_type": "code",
   "execution_count": 3,
   "id": "8d5e87db",
   "metadata": {},
   "outputs": [],
   "source": [
    "df = pd.read_csv('data/Fahrraddiebstahl.csv', encoding=\"ISO-8859-1\")"
   ]
  },
  {
   "cell_type": "code",
   "execution_count": 4,
   "id": "5b4b5159",
   "metadata": {},
   "outputs": [
    {
     "data": {
      "application/vnd.microsoft.datawrangler.viewer.v0+json": {
       "columns": [
        {
         "name": "index",
         "rawType": "int64",
         "type": "integer"
        },
        {
         "name": "ANGELEGT_AM",
         "rawType": "object",
         "type": "string"
        },
        {
         "name": "TATZEIT_ANFANG_DATUM",
         "rawType": "object",
         "type": "string"
        },
        {
         "name": "TATZEIT_ANFANG_STUNDE",
         "rawType": "int64",
         "type": "integer"
        },
        {
         "name": "TATZEIT_ENDE_DATUM",
         "rawType": "object",
         "type": "string"
        },
        {
         "name": "TATZEIT_ENDE_STUNDE",
         "rawType": "int64",
         "type": "integer"
        },
        {
         "name": "LOR",
         "rawType": "int64",
         "type": "integer"
        },
        {
         "name": "SCHADENSHOEHE",
         "rawType": "int64",
         "type": "integer"
        },
        {
         "name": "VERSUCH",
         "rawType": "object",
         "type": "string"
        },
        {
         "name": "ART_DES_FAHRRADS",
         "rawType": "object",
         "type": "string"
        },
        {
         "name": "DELIKT",
         "rawType": "object",
         "type": "string"
        },
        {
         "name": "ERFASSUNGSGRUND",
         "rawType": "object",
         "type": "string"
        }
       ],
       "ref": "2cefbf02-37eb-4e14-8382-93193d0a1068",
       "rows": [
        [
         "0",
         "05.07.2025",
         "05.07.2025",
         "2",
         "05.07.2025",
         "2",
         "7200307",
         "0",
         "Nein",
         "Herrenfahrrad",
         "Fahrraddiebstahl",
         "Sonstiger schwerer Diebstahl von Fahrrädern"
        ],
        [
         "1",
         "05.07.2025",
         "04.07.2025",
         "18",
         "05.07.2025",
         "9",
         "4300413",
         "999",
         "Nein",
         "Herrenfahrrad",
         "Fahrraddiebstahl",
         "Sonstiger schwerer Diebstahl von Fahrrädern"
        ],
        [
         "2",
         "05.07.2025",
         "05.07.2025",
         "11",
         "05.07.2025",
         "11",
         "9401431",
         "1300",
         "Nein",
         "Damenfahrrad",
         "Fahrraddiebstahl",
         "Sonstiger schwerer Diebstahl von Fahrrädern"
        ],
        [
         "3",
         "05.07.2025",
         "05.07.2025",
         "12",
         "05.07.2025",
         "16",
         "6100205",
         "779",
         "Nein",
         "Fahrrad",
         "Fahrraddiebstahl",
         "Sonstiger schwerer Diebstahl von Fahrrädern"
        ],
        [
         "4",
         "05.07.2025",
         "05.07.2025",
         "19",
         "05.07.2025",
         "19",
         "12500926",
         "700",
         "Nein",
         "Damenfahrrad",
         "Fahrraddiebstahl",
         "Sonstiger schwerer Diebstahl von Fahrrädern"
        ]
       ],
       "shape": {
        "columns": 11,
        "rows": 5
       }
      },
      "text/html": [
       "<div>\n",
       "<style scoped>\n",
       "    .dataframe tbody tr th:only-of-type {\n",
       "        vertical-align: middle;\n",
       "    }\n",
       "\n",
       "    .dataframe tbody tr th {\n",
       "        vertical-align: top;\n",
       "    }\n",
       "\n",
       "    .dataframe thead th {\n",
       "        text-align: right;\n",
       "    }\n",
       "</style>\n",
       "<table border=\"1\" class=\"dataframe\">\n",
       "  <thead>\n",
       "    <tr style=\"text-align: right;\">\n",
       "      <th></th>\n",
       "      <th>ANGELEGT_AM</th>\n",
       "      <th>TATZEIT_ANFANG_DATUM</th>\n",
       "      <th>TATZEIT_ANFANG_STUNDE</th>\n",
       "      <th>TATZEIT_ENDE_DATUM</th>\n",
       "      <th>TATZEIT_ENDE_STUNDE</th>\n",
       "      <th>LOR</th>\n",
       "      <th>SCHADENSHOEHE</th>\n",
       "      <th>VERSUCH</th>\n",
       "      <th>ART_DES_FAHRRADS</th>\n",
       "      <th>DELIKT</th>\n",
       "      <th>ERFASSUNGSGRUND</th>\n",
       "    </tr>\n",
       "  </thead>\n",
       "  <tbody>\n",
       "    <tr>\n",
       "      <th>0</th>\n",
       "      <td>05.07.2025</td>\n",
       "      <td>05.07.2025</td>\n",
       "      <td>2</td>\n",
       "      <td>05.07.2025</td>\n",
       "      <td>2</td>\n",
       "      <td>7200307</td>\n",
       "      <td>0</td>\n",
       "      <td>Nein</td>\n",
       "      <td>Herrenfahrrad</td>\n",
       "      <td>Fahrraddiebstahl</td>\n",
       "      <td>Sonstiger schwerer Diebstahl von Fahrrädern</td>\n",
       "    </tr>\n",
       "    <tr>\n",
       "      <th>1</th>\n",
       "      <td>05.07.2025</td>\n",
       "      <td>04.07.2025</td>\n",
       "      <td>18</td>\n",
       "      <td>05.07.2025</td>\n",
       "      <td>9</td>\n",
       "      <td>4300413</td>\n",
       "      <td>999</td>\n",
       "      <td>Nein</td>\n",
       "      <td>Herrenfahrrad</td>\n",
       "      <td>Fahrraddiebstahl</td>\n",
       "      <td>Sonstiger schwerer Diebstahl von Fahrrädern</td>\n",
       "    </tr>\n",
       "    <tr>\n",
       "      <th>2</th>\n",
       "      <td>05.07.2025</td>\n",
       "      <td>05.07.2025</td>\n",
       "      <td>11</td>\n",
       "      <td>05.07.2025</td>\n",
       "      <td>11</td>\n",
       "      <td>9401431</td>\n",
       "      <td>1300</td>\n",
       "      <td>Nein</td>\n",
       "      <td>Damenfahrrad</td>\n",
       "      <td>Fahrraddiebstahl</td>\n",
       "      <td>Sonstiger schwerer Diebstahl von Fahrrädern</td>\n",
       "    </tr>\n",
       "    <tr>\n",
       "      <th>3</th>\n",
       "      <td>05.07.2025</td>\n",
       "      <td>05.07.2025</td>\n",
       "      <td>12</td>\n",
       "      <td>05.07.2025</td>\n",
       "      <td>16</td>\n",
       "      <td>6100205</td>\n",
       "      <td>779</td>\n",
       "      <td>Nein</td>\n",
       "      <td>Fahrrad</td>\n",
       "      <td>Fahrraddiebstahl</td>\n",
       "      <td>Sonstiger schwerer Diebstahl von Fahrrädern</td>\n",
       "    </tr>\n",
       "    <tr>\n",
       "      <th>4</th>\n",
       "      <td>05.07.2025</td>\n",
       "      <td>05.07.2025</td>\n",
       "      <td>19</td>\n",
       "      <td>05.07.2025</td>\n",
       "      <td>19</td>\n",
       "      <td>12500926</td>\n",
       "      <td>700</td>\n",
       "      <td>Nein</td>\n",
       "      <td>Damenfahrrad</td>\n",
       "      <td>Fahrraddiebstahl</td>\n",
       "      <td>Sonstiger schwerer Diebstahl von Fahrrädern</td>\n",
       "    </tr>\n",
       "  </tbody>\n",
       "</table>\n",
       "</div>"
      ],
      "text/plain": [
       "  ANGELEGT_AM TATZEIT_ANFANG_DATUM  TATZEIT_ANFANG_STUNDE TATZEIT_ENDE_DATUM  \\\n",
       "0  05.07.2025           05.07.2025                      2         05.07.2025   \n",
       "1  05.07.2025           04.07.2025                     18         05.07.2025   \n",
       "2  05.07.2025           05.07.2025                     11         05.07.2025   \n",
       "3  05.07.2025           05.07.2025                     12         05.07.2025   \n",
       "4  05.07.2025           05.07.2025                     19         05.07.2025   \n",
       "\n",
       "   TATZEIT_ENDE_STUNDE       LOR  SCHADENSHOEHE VERSUCH ART_DES_FAHRRADS  \\\n",
       "0                    2   7200307              0    Nein    Herrenfahrrad   \n",
       "1                    9   4300413            999    Nein    Herrenfahrrad   \n",
       "2                   11   9401431           1300    Nein     Damenfahrrad   \n",
       "3                   16   6100205            779    Nein          Fahrrad   \n",
       "4                   19  12500926            700    Nein     Damenfahrrad   \n",
       "\n",
       "             DELIKT                              ERFASSUNGSGRUND  \n",
       "0  Fahrraddiebstahl  Sonstiger schwerer Diebstahl von Fahrrädern  \n",
       "1  Fahrraddiebstahl  Sonstiger schwerer Diebstahl von Fahrrädern  \n",
       "2  Fahrraddiebstahl  Sonstiger schwerer Diebstahl von Fahrrädern  \n",
       "3  Fahrraddiebstahl  Sonstiger schwerer Diebstahl von Fahrrädern  \n",
       "4  Fahrraddiebstahl  Sonstiger schwerer Diebstahl von Fahrrädern  "
      ]
     },
     "execution_count": 4,
     "metadata": {},
     "output_type": "execute_result"
    }
   ],
   "source": [
    "df.head()"
   ]
  },
  {
   "cell_type": "code",
   "execution_count": 5,
   "id": "e07a33e1",
   "metadata": {},
   "outputs": [
    {
     "name": "stdout",
     "output_type": "stream",
     "text": [
      "<class 'pandas.core.frame.DataFrame'>\n",
      "RangeIndex: 29887 entries, 0 to 29886\n",
      "Data columns (total 11 columns):\n",
      " #   Column                 Non-Null Count  Dtype \n",
      "---  ------                 --------------  ----- \n",
      " 0   ANGELEGT_AM            29887 non-null  object\n",
      " 1   TATZEIT_ANFANG_DATUM   29887 non-null  object\n",
      " 2   TATZEIT_ANFANG_STUNDE  29887 non-null  int64 \n",
      " 3   TATZEIT_ENDE_DATUM     29887 non-null  object\n",
      " 4   TATZEIT_ENDE_STUNDE    29887 non-null  int64 \n",
      " 5   LOR                    29887 non-null  int64 \n",
      " 6   SCHADENSHOEHE          29887 non-null  int64 \n",
      " 7   VERSUCH                29887 non-null  object\n",
      " 8   ART_DES_FAHRRADS       29887 non-null  object\n",
      " 9   DELIKT                 29887 non-null  object\n",
      " 10  ERFASSUNGSGRUND        29887 non-null  object\n",
      "dtypes: int64(4), object(7)\n",
      "memory usage: 2.5+ MB\n"
     ]
    }
   ],
   "source": [
    "df.info()"
   ]
  },
  {
   "cell_type": "code",
   "execution_count": 6,
   "id": "4055fe66",
   "metadata": {},
   "outputs": [],
   "source": [
    "# Parse DD.MM.YYYY to datetime\n",
    "df['TATZEIT_ANFANG_DATUM'] = pd.to_datetime(\n",
    "    df['TATZEIT_ANFANG_DATUM'],\n",
    "    dayfirst=True,       # because it's in DD.MM.YYYY format\n",
    "    errors='coerce'      # set invalid rows to NaT\n",
    ")"
   ]
  },
  {
   "cell_type": "code",
   "execution_count": 7,
   "id": "aeebb154",
   "metadata": {},
   "outputs": [],
   "source": [
    "df['TATZEIT_ENDE_DATUM'] = pd.to_datetime(\n",
    "    df['TATZEIT_ENDE_DATUM'],\n",
    "    dayfirst=True,       # because it's in DD.MM.YYYY format\n",
    "    errors='coerce'      # set invalid rows to NaT\n",
    ")"
   ]
  },
  {
   "cell_type": "code",
   "execution_count": 8,
   "id": "00d46e51",
   "metadata": {},
   "outputs": [
    {
     "data": {
      "application/vnd.microsoft.datawrangler.viewer.v0+json": {
       "columns": [
        {
         "name": "index",
         "rawType": "int64",
         "type": "integer"
        },
        {
         "name": "ANGELEGT_AM",
         "rawType": "object",
         "type": "string"
        },
        {
         "name": "TATZEIT_ANFANG_DATUM",
         "rawType": "datetime64[ns]",
         "type": "datetime"
        },
        {
         "name": "TATZEIT_ANFANG_STUNDE",
         "rawType": "int64",
         "type": "integer"
        },
        {
         "name": "TATZEIT_ENDE_DATUM",
         "rawType": "datetime64[ns]",
         "type": "datetime"
        },
        {
         "name": "TATZEIT_ENDE_STUNDE",
         "rawType": "int64",
         "type": "integer"
        },
        {
         "name": "LOR",
         "rawType": "int64",
         "type": "integer"
        },
        {
         "name": "SCHADENSHOEHE",
         "rawType": "int64",
         "type": "integer"
        },
        {
         "name": "VERSUCH",
         "rawType": "object",
         "type": "string"
        },
        {
         "name": "ART_DES_FAHRRADS",
         "rawType": "object",
         "type": "string"
        },
        {
         "name": "DELIKT",
         "rawType": "object",
         "type": "string"
        },
        {
         "name": "ERFASSUNGSGRUND",
         "rawType": "object",
         "type": "string"
        }
       ],
       "ref": "a605e5a4-3471-4ef6-b6f1-dbb834cdcef8",
       "rows": [
        [
         "0",
         "05.07.2025",
         "2025-07-05 00:00:00",
         "2",
         "2025-07-05 00:00:00",
         "2",
         "7200307",
         "0",
         "Nein",
         "Herrenfahrrad",
         "Fahrraddiebstahl",
         "Sonstiger schwerer Diebstahl von Fahrrädern"
        ],
        [
         "1",
         "05.07.2025",
         "2025-07-04 00:00:00",
         "18",
         "2025-07-05 00:00:00",
         "9",
         "4300413",
         "999",
         "Nein",
         "Herrenfahrrad",
         "Fahrraddiebstahl",
         "Sonstiger schwerer Diebstahl von Fahrrädern"
        ],
        [
         "2",
         "05.07.2025",
         "2025-07-05 00:00:00",
         "11",
         "2025-07-05 00:00:00",
         "11",
         "9401431",
         "1300",
         "Nein",
         "Damenfahrrad",
         "Fahrraddiebstahl",
         "Sonstiger schwerer Diebstahl von Fahrrädern"
        ],
        [
         "3",
         "05.07.2025",
         "2025-07-05 00:00:00",
         "12",
         "2025-07-05 00:00:00",
         "16",
         "6100205",
         "779",
         "Nein",
         "Fahrrad",
         "Fahrraddiebstahl",
         "Sonstiger schwerer Diebstahl von Fahrrädern"
        ],
        [
         "4",
         "05.07.2025",
         "2025-07-05 00:00:00",
         "19",
         "2025-07-05 00:00:00",
         "19",
         "12500926",
         "700",
         "Nein",
         "Damenfahrrad",
         "Fahrraddiebstahl",
         "Sonstiger schwerer Diebstahl von Fahrrädern"
        ]
       ],
       "shape": {
        "columns": 11,
        "rows": 5
       }
      },
      "text/html": [
       "<div>\n",
       "<style scoped>\n",
       "    .dataframe tbody tr th:only-of-type {\n",
       "        vertical-align: middle;\n",
       "    }\n",
       "\n",
       "    .dataframe tbody tr th {\n",
       "        vertical-align: top;\n",
       "    }\n",
       "\n",
       "    .dataframe thead th {\n",
       "        text-align: right;\n",
       "    }\n",
       "</style>\n",
       "<table border=\"1\" class=\"dataframe\">\n",
       "  <thead>\n",
       "    <tr style=\"text-align: right;\">\n",
       "      <th></th>\n",
       "      <th>ANGELEGT_AM</th>\n",
       "      <th>TATZEIT_ANFANG_DATUM</th>\n",
       "      <th>TATZEIT_ANFANG_STUNDE</th>\n",
       "      <th>TATZEIT_ENDE_DATUM</th>\n",
       "      <th>TATZEIT_ENDE_STUNDE</th>\n",
       "      <th>LOR</th>\n",
       "      <th>SCHADENSHOEHE</th>\n",
       "      <th>VERSUCH</th>\n",
       "      <th>ART_DES_FAHRRADS</th>\n",
       "      <th>DELIKT</th>\n",
       "      <th>ERFASSUNGSGRUND</th>\n",
       "    </tr>\n",
       "  </thead>\n",
       "  <tbody>\n",
       "    <tr>\n",
       "      <th>0</th>\n",
       "      <td>05.07.2025</td>\n",
       "      <td>2025-07-05</td>\n",
       "      <td>2</td>\n",
       "      <td>2025-07-05</td>\n",
       "      <td>2</td>\n",
       "      <td>7200307</td>\n",
       "      <td>0</td>\n",
       "      <td>Nein</td>\n",
       "      <td>Herrenfahrrad</td>\n",
       "      <td>Fahrraddiebstahl</td>\n",
       "      <td>Sonstiger schwerer Diebstahl von Fahrrädern</td>\n",
       "    </tr>\n",
       "    <tr>\n",
       "      <th>1</th>\n",
       "      <td>05.07.2025</td>\n",
       "      <td>2025-07-04</td>\n",
       "      <td>18</td>\n",
       "      <td>2025-07-05</td>\n",
       "      <td>9</td>\n",
       "      <td>4300413</td>\n",
       "      <td>999</td>\n",
       "      <td>Nein</td>\n",
       "      <td>Herrenfahrrad</td>\n",
       "      <td>Fahrraddiebstahl</td>\n",
       "      <td>Sonstiger schwerer Diebstahl von Fahrrädern</td>\n",
       "    </tr>\n",
       "    <tr>\n",
       "      <th>2</th>\n",
       "      <td>05.07.2025</td>\n",
       "      <td>2025-07-05</td>\n",
       "      <td>11</td>\n",
       "      <td>2025-07-05</td>\n",
       "      <td>11</td>\n",
       "      <td>9401431</td>\n",
       "      <td>1300</td>\n",
       "      <td>Nein</td>\n",
       "      <td>Damenfahrrad</td>\n",
       "      <td>Fahrraddiebstahl</td>\n",
       "      <td>Sonstiger schwerer Diebstahl von Fahrrädern</td>\n",
       "    </tr>\n",
       "    <tr>\n",
       "      <th>3</th>\n",
       "      <td>05.07.2025</td>\n",
       "      <td>2025-07-05</td>\n",
       "      <td>12</td>\n",
       "      <td>2025-07-05</td>\n",
       "      <td>16</td>\n",
       "      <td>6100205</td>\n",
       "      <td>779</td>\n",
       "      <td>Nein</td>\n",
       "      <td>Fahrrad</td>\n",
       "      <td>Fahrraddiebstahl</td>\n",
       "      <td>Sonstiger schwerer Diebstahl von Fahrrädern</td>\n",
       "    </tr>\n",
       "    <tr>\n",
       "      <th>4</th>\n",
       "      <td>05.07.2025</td>\n",
       "      <td>2025-07-05</td>\n",
       "      <td>19</td>\n",
       "      <td>2025-07-05</td>\n",
       "      <td>19</td>\n",
       "      <td>12500926</td>\n",
       "      <td>700</td>\n",
       "      <td>Nein</td>\n",
       "      <td>Damenfahrrad</td>\n",
       "      <td>Fahrraddiebstahl</td>\n",
       "      <td>Sonstiger schwerer Diebstahl von Fahrrädern</td>\n",
       "    </tr>\n",
       "  </tbody>\n",
       "</table>\n",
       "</div>"
      ],
      "text/plain": [
       "  ANGELEGT_AM TATZEIT_ANFANG_DATUM  TATZEIT_ANFANG_STUNDE TATZEIT_ENDE_DATUM  \\\n",
       "0  05.07.2025           2025-07-05                      2         2025-07-05   \n",
       "1  05.07.2025           2025-07-04                     18         2025-07-05   \n",
       "2  05.07.2025           2025-07-05                     11         2025-07-05   \n",
       "3  05.07.2025           2025-07-05                     12         2025-07-05   \n",
       "4  05.07.2025           2025-07-05                     19         2025-07-05   \n",
       "\n",
       "   TATZEIT_ENDE_STUNDE       LOR  SCHADENSHOEHE VERSUCH ART_DES_FAHRRADS  \\\n",
       "0                    2   7200307              0    Nein    Herrenfahrrad   \n",
       "1                    9   4300413            999    Nein    Herrenfahrrad   \n",
       "2                   11   9401431           1300    Nein     Damenfahrrad   \n",
       "3                   16   6100205            779    Nein          Fahrrad   \n",
       "4                   19  12500926            700    Nein     Damenfahrrad   \n",
       "\n",
       "             DELIKT                              ERFASSUNGSGRUND  \n",
       "0  Fahrraddiebstahl  Sonstiger schwerer Diebstahl von Fahrrädern  \n",
       "1  Fahrraddiebstahl  Sonstiger schwerer Diebstahl von Fahrrädern  \n",
       "2  Fahrraddiebstahl  Sonstiger schwerer Diebstahl von Fahrrädern  \n",
       "3  Fahrraddiebstahl  Sonstiger schwerer Diebstahl von Fahrrädern  \n",
       "4  Fahrraddiebstahl  Sonstiger schwerer Diebstahl von Fahrrädern  "
      ]
     },
     "execution_count": 8,
     "metadata": {},
     "output_type": "execute_result"
    }
   ],
   "source": [
    "df.head()"
   ]
  },
  {
   "cell_type": "code",
   "execution_count": 9,
   "id": "5e4e63ff",
   "metadata": {},
   "outputs": [],
   "source": [
    "df['TATZEIT_ANFANG_DATUM'] = df['TATZEIT_ANFANG_DATUM'].dt.date"
   ]
  },
  {
   "cell_type": "code",
   "execution_count": 10,
   "id": "653f13ec",
   "metadata": {},
   "outputs": [],
   "source": [
    "df['TATZEIT_ENDE_DATUM'] = df['TATZEIT_ENDE_DATUM'].dt.date"
   ]
  },
  {
   "cell_type": "code",
   "execution_count": 11,
   "id": "4b0ae6e5",
   "metadata": {},
   "outputs": [
    {
     "data": {
      "application/vnd.microsoft.datawrangler.viewer.v0+json": {
       "columns": [
        {
         "name": "index",
         "rawType": "int64",
         "type": "integer"
        },
        {
         "name": "ANGELEGT_AM",
         "rawType": "object",
         "type": "string"
        },
        {
         "name": "TATZEIT_ANFANG_DATUM",
         "rawType": "object",
         "type": "unknown"
        },
        {
         "name": "TATZEIT_ANFANG_STUNDE",
         "rawType": "int64",
         "type": "integer"
        },
        {
         "name": "TATZEIT_ENDE_DATUM",
         "rawType": "object",
         "type": "unknown"
        },
        {
         "name": "TATZEIT_ENDE_STUNDE",
         "rawType": "int64",
         "type": "integer"
        },
        {
         "name": "LOR",
         "rawType": "int64",
         "type": "integer"
        },
        {
         "name": "SCHADENSHOEHE",
         "rawType": "int64",
         "type": "integer"
        },
        {
         "name": "VERSUCH",
         "rawType": "object",
         "type": "string"
        },
        {
         "name": "ART_DES_FAHRRADS",
         "rawType": "object",
         "type": "string"
        },
        {
         "name": "DELIKT",
         "rawType": "object",
         "type": "string"
        },
        {
         "name": "ERFASSUNGSGRUND",
         "rawType": "object",
         "type": "string"
        }
       ],
       "ref": "bbba9c09-81ec-4c04-9577-f1943fafdf40",
       "rows": [
        [
         "0",
         "05.07.2025",
         "2025-07-05",
         "2",
         "2025-07-05",
         "2",
         "7200307",
         "0",
         "Nein",
         "Herrenfahrrad",
         "Fahrraddiebstahl",
         "Sonstiger schwerer Diebstahl von Fahrrädern"
        ],
        [
         "1",
         "05.07.2025",
         "2025-07-04",
         "18",
         "2025-07-05",
         "9",
         "4300413",
         "999",
         "Nein",
         "Herrenfahrrad",
         "Fahrraddiebstahl",
         "Sonstiger schwerer Diebstahl von Fahrrädern"
        ],
        [
         "2",
         "05.07.2025",
         "2025-07-05",
         "11",
         "2025-07-05",
         "11",
         "9401431",
         "1300",
         "Nein",
         "Damenfahrrad",
         "Fahrraddiebstahl",
         "Sonstiger schwerer Diebstahl von Fahrrädern"
        ],
        [
         "3",
         "05.07.2025",
         "2025-07-05",
         "12",
         "2025-07-05",
         "16",
         "6100205",
         "779",
         "Nein",
         "Fahrrad",
         "Fahrraddiebstahl",
         "Sonstiger schwerer Diebstahl von Fahrrädern"
        ],
        [
         "4",
         "05.07.2025",
         "2025-07-05",
         "19",
         "2025-07-05",
         "19",
         "12500926",
         "700",
         "Nein",
         "Damenfahrrad",
         "Fahrraddiebstahl",
         "Sonstiger schwerer Diebstahl von Fahrrädern"
        ]
       ],
       "shape": {
        "columns": 11,
        "rows": 5
       }
      },
      "text/html": [
       "<div>\n",
       "<style scoped>\n",
       "    .dataframe tbody tr th:only-of-type {\n",
       "        vertical-align: middle;\n",
       "    }\n",
       "\n",
       "    .dataframe tbody tr th {\n",
       "        vertical-align: top;\n",
       "    }\n",
       "\n",
       "    .dataframe thead th {\n",
       "        text-align: right;\n",
       "    }\n",
       "</style>\n",
       "<table border=\"1\" class=\"dataframe\">\n",
       "  <thead>\n",
       "    <tr style=\"text-align: right;\">\n",
       "      <th></th>\n",
       "      <th>ANGELEGT_AM</th>\n",
       "      <th>TATZEIT_ANFANG_DATUM</th>\n",
       "      <th>TATZEIT_ANFANG_STUNDE</th>\n",
       "      <th>TATZEIT_ENDE_DATUM</th>\n",
       "      <th>TATZEIT_ENDE_STUNDE</th>\n",
       "      <th>LOR</th>\n",
       "      <th>SCHADENSHOEHE</th>\n",
       "      <th>VERSUCH</th>\n",
       "      <th>ART_DES_FAHRRADS</th>\n",
       "      <th>DELIKT</th>\n",
       "      <th>ERFASSUNGSGRUND</th>\n",
       "    </tr>\n",
       "  </thead>\n",
       "  <tbody>\n",
       "    <tr>\n",
       "      <th>0</th>\n",
       "      <td>05.07.2025</td>\n",
       "      <td>2025-07-05</td>\n",
       "      <td>2</td>\n",
       "      <td>2025-07-05</td>\n",
       "      <td>2</td>\n",
       "      <td>7200307</td>\n",
       "      <td>0</td>\n",
       "      <td>Nein</td>\n",
       "      <td>Herrenfahrrad</td>\n",
       "      <td>Fahrraddiebstahl</td>\n",
       "      <td>Sonstiger schwerer Diebstahl von Fahrrädern</td>\n",
       "    </tr>\n",
       "    <tr>\n",
       "      <th>1</th>\n",
       "      <td>05.07.2025</td>\n",
       "      <td>2025-07-04</td>\n",
       "      <td>18</td>\n",
       "      <td>2025-07-05</td>\n",
       "      <td>9</td>\n",
       "      <td>4300413</td>\n",
       "      <td>999</td>\n",
       "      <td>Nein</td>\n",
       "      <td>Herrenfahrrad</td>\n",
       "      <td>Fahrraddiebstahl</td>\n",
       "      <td>Sonstiger schwerer Diebstahl von Fahrrädern</td>\n",
       "    </tr>\n",
       "    <tr>\n",
       "      <th>2</th>\n",
       "      <td>05.07.2025</td>\n",
       "      <td>2025-07-05</td>\n",
       "      <td>11</td>\n",
       "      <td>2025-07-05</td>\n",
       "      <td>11</td>\n",
       "      <td>9401431</td>\n",
       "      <td>1300</td>\n",
       "      <td>Nein</td>\n",
       "      <td>Damenfahrrad</td>\n",
       "      <td>Fahrraddiebstahl</td>\n",
       "      <td>Sonstiger schwerer Diebstahl von Fahrrädern</td>\n",
       "    </tr>\n",
       "    <tr>\n",
       "      <th>3</th>\n",
       "      <td>05.07.2025</td>\n",
       "      <td>2025-07-05</td>\n",
       "      <td>12</td>\n",
       "      <td>2025-07-05</td>\n",
       "      <td>16</td>\n",
       "      <td>6100205</td>\n",
       "      <td>779</td>\n",
       "      <td>Nein</td>\n",
       "      <td>Fahrrad</td>\n",
       "      <td>Fahrraddiebstahl</td>\n",
       "      <td>Sonstiger schwerer Diebstahl von Fahrrädern</td>\n",
       "    </tr>\n",
       "    <tr>\n",
       "      <th>4</th>\n",
       "      <td>05.07.2025</td>\n",
       "      <td>2025-07-05</td>\n",
       "      <td>19</td>\n",
       "      <td>2025-07-05</td>\n",
       "      <td>19</td>\n",
       "      <td>12500926</td>\n",
       "      <td>700</td>\n",
       "      <td>Nein</td>\n",
       "      <td>Damenfahrrad</td>\n",
       "      <td>Fahrraddiebstahl</td>\n",
       "      <td>Sonstiger schwerer Diebstahl von Fahrrädern</td>\n",
       "    </tr>\n",
       "  </tbody>\n",
       "</table>\n",
       "</div>"
      ],
      "text/plain": [
       "  ANGELEGT_AM TATZEIT_ANFANG_DATUM  TATZEIT_ANFANG_STUNDE TATZEIT_ENDE_DATUM  \\\n",
       "0  05.07.2025           2025-07-05                      2         2025-07-05   \n",
       "1  05.07.2025           2025-07-04                     18         2025-07-05   \n",
       "2  05.07.2025           2025-07-05                     11         2025-07-05   \n",
       "3  05.07.2025           2025-07-05                     12         2025-07-05   \n",
       "4  05.07.2025           2025-07-05                     19         2025-07-05   \n",
       "\n",
       "   TATZEIT_ENDE_STUNDE       LOR  SCHADENSHOEHE VERSUCH ART_DES_FAHRRADS  \\\n",
       "0                    2   7200307              0    Nein    Herrenfahrrad   \n",
       "1                    9   4300413            999    Nein    Herrenfahrrad   \n",
       "2                   11   9401431           1300    Nein     Damenfahrrad   \n",
       "3                   16   6100205            779    Nein          Fahrrad   \n",
       "4                   19  12500926            700    Nein     Damenfahrrad   \n",
       "\n",
       "             DELIKT                              ERFASSUNGSGRUND  \n",
       "0  Fahrraddiebstahl  Sonstiger schwerer Diebstahl von Fahrrädern  \n",
       "1  Fahrraddiebstahl  Sonstiger schwerer Diebstahl von Fahrrädern  \n",
       "2  Fahrraddiebstahl  Sonstiger schwerer Diebstahl von Fahrrädern  \n",
       "3  Fahrraddiebstahl  Sonstiger schwerer Diebstahl von Fahrrädern  \n",
       "4  Fahrraddiebstahl  Sonstiger schwerer Diebstahl von Fahrrädern  "
      ]
     },
     "execution_count": 11,
     "metadata": {},
     "output_type": "execute_result"
    }
   ],
   "source": [
    "df.head()"
   ]
  },
  {
   "cell_type": "code",
   "execution_count": 12,
   "id": "e3ae635f",
   "metadata": {},
   "outputs": [],
   "source": [
    "df['ANGELEGT_AM'] = pd.to_datetime(\n",
    "    df['ANGELEGT_AM'],\n",
    "    dayfirst=True,       # because it's in DD.MM.YYYY format\n",
    "    errors='coerce'      # set invalid rows to NaT\n",
    ")"
   ]
  },
  {
   "cell_type": "code",
   "execution_count": 13,
   "id": "e68156a7",
   "metadata": {},
   "outputs": [],
   "source": [
    "df['ANGELEGT_AM'] = df['ANGELEGT_AM'].dt.date"
   ]
  },
  {
   "cell_type": "code",
   "execution_count": 14,
   "id": "73e142de",
   "metadata": {},
   "outputs": [
    {
     "data": {
      "application/vnd.microsoft.datawrangler.viewer.v0+json": {
       "columns": [
        {
         "name": "index",
         "rawType": "int64",
         "type": "integer"
        },
        {
         "name": "ANGELEGT_AM",
         "rawType": "object",
         "type": "unknown"
        },
        {
         "name": "TATZEIT_ANFANG_DATUM",
         "rawType": "object",
         "type": "unknown"
        },
        {
         "name": "TATZEIT_ANFANG_STUNDE",
         "rawType": "int64",
         "type": "integer"
        },
        {
         "name": "TATZEIT_ENDE_DATUM",
         "rawType": "object",
         "type": "unknown"
        },
        {
         "name": "TATZEIT_ENDE_STUNDE",
         "rawType": "int64",
         "type": "integer"
        },
        {
         "name": "LOR",
         "rawType": "int64",
         "type": "integer"
        },
        {
         "name": "SCHADENSHOEHE",
         "rawType": "int64",
         "type": "integer"
        },
        {
         "name": "VERSUCH",
         "rawType": "object",
         "type": "string"
        },
        {
         "name": "ART_DES_FAHRRADS",
         "rawType": "object",
         "type": "string"
        },
        {
         "name": "DELIKT",
         "rawType": "object",
         "type": "string"
        },
        {
         "name": "ERFASSUNGSGRUND",
         "rawType": "object",
         "type": "string"
        }
       ],
       "ref": "8f4ad2ad-d181-4997-9368-01f2903bfd48",
       "rows": [
        [
         "0",
         "2025-07-05",
         "2025-07-05",
         "2",
         "2025-07-05",
         "2",
         "7200307",
         "0",
         "Nein",
         "Herrenfahrrad",
         "Fahrraddiebstahl",
         "Sonstiger schwerer Diebstahl von Fahrrädern"
        ],
        [
         "1",
         "2025-07-05",
         "2025-07-04",
         "18",
         "2025-07-05",
         "9",
         "4300413",
         "999",
         "Nein",
         "Herrenfahrrad",
         "Fahrraddiebstahl",
         "Sonstiger schwerer Diebstahl von Fahrrädern"
        ],
        [
         "2",
         "2025-07-05",
         "2025-07-05",
         "11",
         "2025-07-05",
         "11",
         "9401431",
         "1300",
         "Nein",
         "Damenfahrrad",
         "Fahrraddiebstahl",
         "Sonstiger schwerer Diebstahl von Fahrrädern"
        ],
        [
         "3",
         "2025-07-05",
         "2025-07-05",
         "12",
         "2025-07-05",
         "16",
         "6100205",
         "779",
         "Nein",
         "Fahrrad",
         "Fahrraddiebstahl",
         "Sonstiger schwerer Diebstahl von Fahrrädern"
        ],
        [
         "4",
         "2025-07-05",
         "2025-07-05",
         "19",
         "2025-07-05",
         "19",
         "12500926",
         "700",
         "Nein",
         "Damenfahrrad",
         "Fahrraddiebstahl",
         "Sonstiger schwerer Diebstahl von Fahrrädern"
        ]
       ],
       "shape": {
        "columns": 11,
        "rows": 5
       }
      },
      "text/html": [
       "<div>\n",
       "<style scoped>\n",
       "    .dataframe tbody tr th:only-of-type {\n",
       "        vertical-align: middle;\n",
       "    }\n",
       "\n",
       "    .dataframe tbody tr th {\n",
       "        vertical-align: top;\n",
       "    }\n",
       "\n",
       "    .dataframe thead th {\n",
       "        text-align: right;\n",
       "    }\n",
       "</style>\n",
       "<table border=\"1\" class=\"dataframe\">\n",
       "  <thead>\n",
       "    <tr style=\"text-align: right;\">\n",
       "      <th></th>\n",
       "      <th>ANGELEGT_AM</th>\n",
       "      <th>TATZEIT_ANFANG_DATUM</th>\n",
       "      <th>TATZEIT_ANFANG_STUNDE</th>\n",
       "      <th>TATZEIT_ENDE_DATUM</th>\n",
       "      <th>TATZEIT_ENDE_STUNDE</th>\n",
       "      <th>LOR</th>\n",
       "      <th>SCHADENSHOEHE</th>\n",
       "      <th>VERSUCH</th>\n",
       "      <th>ART_DES_FAHRRADS</th>\n",
       "      <th>DELIKT</th>\n",
       "      <th>ERFASSUNGSGRUND</th>\n",
       "    </tr>\n",
       "  </thead>\n",
       "  <tbody>\n",
       "    <tr>\n",
       "      <th>0</th>\n",
       "      <td>2025-07-05</td>\n",
       "      <td>2025-07-05</td>\n",
       "      <td>2</td>\n",
       "      <td>2025-07-05</td>\n",
       "      <td>2</td>\n",
       "      <td>7200307</td>\n",
       "      <td>0</td>\n",
       "      <td>Nein</td>\n",
       "      <td>Herrenfahrrad</td>\n",
       "      <td>Fahrraddiebstahl</td>\n",
       "      <td>Sonstiger schwerer Diebstahl von Fahrrädern</td>\n",
       "    </tr>\n",
       "    <tr>\n",
       "      <th>1</th>\n",
       "      <td>2025-07-05</td>\n",
       "      <td>2025-07-04</td>\n",
       "      <td>18</td>\n",
       "      <td>2025-07-05</td>\n",
       "      <td>9</td>\n",
       "      <td>4300413</td>\n",
       "      <td>999</td>\n",
       "      <td>Nein</td>\n",
       "      <td>Herrenfahrrad</td>\n",
       "      <td>Fahrraddiebstahl</td>\n",
       "      <td>Sonstiger schwerer Diebstahl von Fahrrädern</td>\n",
       "    </tr>\n",
       "    <tr>\n",
       "      <th>2</th>\n",
       "      <td>2025-07-05</td>\n",
       "      <td>2025-07-05</td>\n",
       "      <td>11</td>\n",
       "      <td>2025-07-05</td>\n",
       "      <td>11</td>\n",
       "      <td>9401431</td>\n",
       "      <td>1300</td>\n",
       "      <td>Nein</td>\n",
       "      <td>Damenfahrrad</td>\n",
       "      <td>Fahrraddiebstahl</td>\n",
       "      <td>Sonstiger schwerer Diebstahl von Fahrrädern</td>\n",
       "    </tr>\n",
       "    <tr>\n",
       "      <th>3</th>\n",
       "      <td>2025-07-05</td>\n",
       "      <td>2025-07-05</td>\n",
       "      <td>12</td>\n",
       "      <td>2025-07-05</td>\n",
       "      <td>16</td>\n",
       "      <td>6100205</td>\n",
       "      <td>779</td>\n",
       "      <td>Nein</td>\n",
       "      <td>Fahrrad</td>\n",
       "      <td>Fahrraddiebstahl</td>\n",
       "      <td>Sonstiger schwerer Diebstahl von Fahrrädern</td>\n",
       "    </tr>\n",
       "    <tr>\n",
       "      <th>4</th>\n",
       "      <td>2025-07-05</td>\n",
       "      <td>2025-07-05</td>\n",
       "      <td>19</td>\n",
       "      <td>2025-07-05</td>\n",
       "      <td>19</td>\n",
       "      <td>12500926</td>\n",
       "      <td>700</td>\n",
       "      <td>Nein</td>\n",
       "      <td>Damenfahrrad</td>\n",
       "      <td>Fahrraddiebstahl</td>\n",
       "      <td>Sonstiger schwerer Diebstahl von Fahrrädern</td>\n",
       "    </tr>\n",
       "  </tbody>\n",
       "</table>\n",
       "</div>"
      ],
      "text/plain": [
       "  ANGELEGT_AM TATZEIT_ANFANG_DATUM  TATZEIT_ANFANG_STUNDE TATZEIT_ENDE_DATUM  \\\n",
       "0  2025-07-05           2025-07-05                      2         2025-07-05   \n",
       "1  2025-07-05           2025-07-04                     18         2025-07-05   \n",
       "2  2025-07-05           2025-07-05                     11         2025-07-05   \n",
       "3  2025-07-05           2025-07-05                     12         2025-07-05   \n",
       "4  2025-07-05           2025-07-05                     19         2025-07-05   \n",
       "\n",
       "   TATZEIT_ENDE_STUNDE       LOR  SCHADENSHOEHE VERSUCH ART_DES_FAHRRADS  \\\n",
       "0                    2   7200307              0    Nein    Herrenfahrrad   \n",
       "1                    9   4300413            999    Nein    Herrenfahrrad   \n",
       "2                   11   9401431           1300    Nein     Damenfahrrad   \n",
       "3                   16   6100205            779    Nein          Fahrrad   \n",
       "4                   19  12500926            700    Nein     Damenfahrrad   \n",
       "\n",
       "             DELIKT                              ERFASSUNGSGRUND  \n",
       "0  Fahrraddiebstahl  Sonstiger schwerer Diebstahl von Fahrrädern  \n",
       "1  Fahrraddiebstahl  Sonstiger schwerer Diebstahl von Fahrrädern  \n",
       "2  Fahrraddiebstahl  Sonstiger schwerer Diebstahl von Fahrrädern  \n",
       "3  Fahrraddiebstahl  Sonstiger schwerer Diebstahl von Fahrrädern  \n",
       "4  Fahrraddiebstahl  Sonstiger schwerer Diebstahl von Fahrrädern  "
      ]
     },
     "execution_count": 14,
     "metadata": {},
     "output_type": "execute_result"
    }
   ],
   "source": [
    "df.head()"
   ]
  },
  {
   "cell_type": "code",
   "execution_count": 15,
   "id": "ca172b41",
   "metadata": {},
   "outputs": [
    {
     "data": {
      "text/plain": [
       "(29887, 11)"
      ]
     },
     "execution_count": 15,
     "metadata": {},
     "output_type": "execute_result"
    }
   ],
   "source": [
    "df.shape"
   ]
  },
  {
   "cell_type": "code",
   "execution_count": 16,
   "id": "7beb35ef",
   "metadata": {},
   "outputs": [
    {
     "data": {
      "application/vnd.microsoft.datawrangler.viewer.v0+json": {
       "columns": [
        {
         "name": "index",
         "rawType": "object",
         "type": "string"
        },
        {
         "name": "0",
         "rawType": "int64",
         "type": "integer"
        }
       ],
       "ref": "4d7d1bf3-dda2-4228-bd97-6992e1923436",
       "rows": [
        [
         "ANGELEGT_AM",
         "0"
        ],
        [
         "TATZEIT_ANFANG_DATUM",
         "0"
        ],
        [
         "TATZEIT_ANFANG_STUNDE",
         "0"
        ],
        [
         "TATZEIT_ENDE_DATUM",
         "0"
        ],
        [
         "TATZEIT_ENDE_STUNDE",
         "0"
        ],
        [
         "LOR",
         "0"
        ],
        [
         "SCHADENSHOEHE",
         "0"
        ],
        [
         "VERSUCH",
         "0"
        ],
        [
         "ART_DES_FAHRRADS",
         "0"
        ],
        [
         "DELIKT",
         "0"
        ],
        [
         "ERFASSUNGSGRUND",
         "0"
        ]
       ],
       "shape": {
        "columns": 1,
        "rows": 11
       }
      },
      "text/plain": [
       "ANGELEGT_AM              0\n",
       "TATZEIT_ANFANG_DATUM     0\n",
       "TATZEIT_ANFANG_STUNDE    0\n",
       "TATZEIT_ENDE_DATUM       0\n",
       "TATZEIT_ENDE_STUNDE      0\n",
       "LOR                      0\n",
       "SCHADENSHOEHE            0\n",
       "VERSUCH                  0\n",
       "ART_DES_FAHRRADS         0\n",
       "DELIKT                   0\n",
       "ERFASSUNGSGRUND          0\n",
       "dtype: int64"
      ]
     },
     "execution_count": 16,
     "metadata": {},
     "output_type": "execute_result"
    }
   ],
   "source": [
    "df.isnull().sum()"
   ]
  },
  {
   "cell_type": "code",
   "execution_count": 17,
   "id": "e970ec1d",
   "metadata": {},
   "outputs": [
    {
     "name": "stdout",
     "output_type": "stream",
     "text": [
      "✅ No leading/trailing spaces in 'ART_DES_FAHRRADS'\n"
     ]
    }
   ],
   "source": [
    "has_spaces = df['ART_DES_FAHRRADS'].astype(str).str.contains(r'^\\s+|\\s+$').any()\n",
    "\n",
    "if has_spaces:\n",
    "    print(\"⚠️ Column 'ART_DES_FAHRRADS' has values with leading/trailing spaces\")\n",
    "else:\n",
    "    print(\"✅ No leading/trailing spaces in 'ART_DES_FAHRRADS'\")\n"
   ]
  },
  {
   "cell_type": "code",
   "execution_count": 18,
   "id": "d146e387",
   "metadata": {},
   "outputs": [
    {
     "name": "stdout",
     "output_type": "stream",
     "text": [
      "<class 'pandas.core.frame.DataFrame'>\n",
      "RangeIndex: 29887 entries, 0 to 29886\n",
      "Data columns (total 11 columns):\n",
      " #   Column                 Non-Null Count  Dtype \n",
      "---  ------                 --------------  ----- \n",
      " 0   ANGELEGT_AM            29887 non-null  object\n",
      " 1   TATZEIT_ANFANG_DATUM   29887 non-null  object\n",
      " 2   TATZEIT_ANFANG_STUNDE  29887 non-null  int64 \n",
      " 3   TATZEIT_ENDE_DATUM     29887 non-null  object\n",
      " 4   TATZEIT_ENDE_STUNDE    29887 non-null  int64 \n",
      " 5   LOR                    29887 non-null  int64 \n",
      " 6   SCHADENSHOEHE          29887 non-null  int64 \n",
      " 7   VERSUCH                29887 non-null  object\n",
      " 8   ART_DES_FAHRRADS       29887 non-null  object\n",
      " 9   DELIKT                 29887 non-null  object\n",
      " 10  ERFASSUNGSGRUND        29887 non-null  object\n",
      "dtypes: int64(4), object(7)\n",
      "memory usage: 2.5+ MB\n"
     ]
    }
   ],
   "source": [
    "df.info()"
   ]
  },
  {
   "cell_type": "code",
   "execution_count": 19,
   "id": "77ee80ac",
   "metadata": {},
   "outputs": [],
   "source": [
    "df['TATZEIT_ENDE_DATUM'] = pd.to_datetime(\n",
    "    df['TATZEIT_ENDE_DATUM'],\n",
    "    errors='coerce'  # converts invalid entries to NaT\n",
    ").dt.date            # keep only date part\n"
   ]
  },
  {
   "cell_type": "code",
   "execution_count": 20,
   "id": "98094011",
   "metadata": {},
   "outputs": [
    {
     "data": {
      "application/vnd.microsoft.datawrangler.viewer.v0+json": {
       "columns": [
        {
         "name": "index",
         "rawType": "int64",
         "type": "integer"
        },
        {
         "name": "ANGELEGT_AM",
         "rawType": "object",
         "type": "unknown"
        },
        {
         "name": "TATZEIT_ANFANG_DATUM",
         "rawType": "object",
         "type": "unknown"
        },
        {
         "name": "TATZEIT_ANFANG_STUNDE",
         "rawType": "int64",
         "type": "integer"
        },
        {
         "name": "TATZEIT_ENDE_DATUM",
         "rawType": "object",
         "type": "unknown"
        },
        {
         "name": "TATZEIT_ENDE_STUNDE",
         "rawType": "int64",
         "type": "integer"
        },
        {
         "name": "LOR",
         "rawType": "int64",
         "type": "integer"
        },
        {
         "name": "SCHADENSHOEHE",
         "rawType": "int64",
         "type": "integer"
        },
        {
         "name": "VERSUCH",
         "rawType": "object",
         "type": "string"
        },
        {
         "name": "ART_DES_FAHRRADS",
         "rawType": "object",
         "type": "string"
        },
        {
         "name": "DELIKT",
         "rawType": "object",
         "type": "string"
        },
        {
         "name": "ERFASSUNGSGRUND",
         "rawType": "object",
         "type": "string"
        }
       ],
       "ref": "32dca913-6114-41ad-9f58-4bf4b35dd24b",
       "rows": [
        [
         "0",
         "2025-07-05",
         "2025-07-05",
         "2",
         "2025-07-05",
         "2",
         "7200307",
         "0",
         "Nein",
         "Herrenfahrrad",
         "Fahrraddiebstahl",
         "Sonstiger schwerer Diebstahl von Fahrrädern"
        ],
        [
         "1",
         "2025-07-05",
         "2025-07-04",
         "18",
         "2025-07-05",
         "9",
         "4300413",
         "999",
         "Nein",
         "Herrenfahrrad",
         "Fahrraddiebstahl",
         "Sonstiger schwerer Diebstahl von Fahrrädern"
        ],
        [
         "2",
         "2025-07-05",
         "2025-07-05",
         "11",
         "2025-07-05",
         "11",
         "9401431",
         "1300",
         "Nein",
         "Damenfahrrad",
         "Fahrraddiebstahl",
         "Sonstiger schwerer Diebstahl von Fahrrädern"
        ],
        [
         "3",
         "2025-07-05",
         "2025-07-05",
         "12",
         "2025-07-05",
         "16",
         "6100205",
         "779",
         "Nein",
         "Fahrrad",
         "Fahrraddiebstahl",
         "Sonstiger schwerer Diebstahl von Fahrrädern"
        ],
        [
         "4",
         "2025-07-05",
         "2025-07-05",
         "19",
         "2025-07-05",
         "19",
         "12500926",
         "700",
         "Nein",
         "Damenfahrrad",
         "Fahrraddiebstahl",
         "Sonstiger schwerer Diebstahl von Fahrrädern"
        ]
       ],
       "shape": {
        "columns": 11,
        "rows": 5
       }
      },
      "text/html": [
       "<div>\n",
       "<style scoped>\n",
       "    .dataframe tbody tr th:only-of-type {\n",
       "        vertical-align: middle;\n",
       "    }\n",
       "\n",
       "    .dataframe tbody tr th {\n",
       "        vertical-align: top;\n",
       "    }\n",
       "\n",
       "    .dataframe thead th {\n",
       "        text-align: right;\n",
       "    }\n",
       "</style>\n",
       "<table border=\"1\" class=\"dataframe\">\n",
       "  <thead>\n",
       "    <tr style=\"text-align: right;\">\n",
       "      <th></th>\n",
       "      <th>ANGELEGT_AM</th>\n",
       "      <th>TATZEIT_ANFANG_DATUM</th>\n",
       "      <th>TATZEIT_ANFANG_STUNDE</th>\n",
       "      <th>TATZEIT_ENDE_DATUM</th>\n",
       "      <th>TATZEIT_ENDE_STUNDE</th>\n",
       "      <th>LOR</th>\n",
       "      <th>SCHADENSHOEHE</th>\n",
       "      <th>VERSUCH</th>\n",
       "      <th>ART_DES_FAHRRADS</th>\n",
       "      <th>DELIKT</th>\n",
       "      <th>ERFASSUNGSGRUND</th>\n",
       "    </tr>\n",
       "  </thead>\n",
       "  <tbody>\n",
       "    <tr>\n",
       "      <th>0</th>\n",
       "      <td>2025-07-05</td>\n",
       "      <td>2025-07-05</td>\n",
       "      <td>2</td>\n",
       "      <td>2025-07-05</td>\n",
       "      <td>2</td>\n",
       "      <td>7200307</td>\n",
       "      <td>0</td>\n",
       "      <td>Nein</td>\n",
       "      <td>Herrenfahrrad</td>\n",
       "      <td>Fahrraddiebstahl</td>\n",
       "      <td>Sonstiger schwerer Diebstahl von Fahrrädern</td>\n",
       "    </tr>\n",
       "    <tr>\n",
       "      <th>1</th>\n",
       "      <td>2025-07-05</td>\n",
       "      <td>2025-07-04</td>\n",
       "      <td>18</td>\n",
       "      <td>2025-07-05</td>\n",
       "      <td>9</td>\n",
       "      <td>4300413</td>\n",
       "      <td>999</td>\n",
       "      <td>Nein</td>\n",
       "      <td>Herrenfahrrad</td>\n",
       "      <td>Fahrraddiebstahl</td>\n",
       "      <td>Sonstiger schwerer Diebstahl von Fahrrädern</td>\n",
       "    </tr>\n",
       "    <tr>\n",
       "      <th>2</th>\n",
       "      <td>2025-07-05</td>\n",
       "      <td>2025-07-05</td>\n",
       "      <td>11</td>\n",
       "      <td>2025-07-05</td>\n",
       "      <td>11</td>\n",
       "      <td>9401431</td>\n",
       "      <td>1300</td>\n",
       "      <td>Nein</td>\n",
       "      <td>Damenfahrrad</td>\n",
       "      <td>Fahrraddiebstahl</td>\n",
       "      <td>Sonstiger schwerer Diebstahl von Fahrrädern</td>\n",
       "    </tr>\n",
       "    <tr>\n",
       "      <th>3</th>\n",
       "      <td>2025-07-05</td>\n",
       "      <td>2025-07-05</td>\n",
       "      <td>12</td>\n",
       "      <td>2025-07-05</td>\n",
       "      <td>16</td>\n",
       "      <td>6100205</td>\n",
       "      <td>779</td>\n",
       "      <td>Nein</td>\n",
       "      <td>Fahrrad</td>\n",
       "      <td>Fahrraddiebstahl</td>\n",
       "      <td>Sonstiger schwerer Diebstahl von Fahrrädern</td>\n",
       "    </tr>\n",
       "    <tr>\n",
       "      <th>4</th>\n",
       "      <td>2025-07-05</td>\n",
       "      <td>2025-07-05</td>\n",
       "      <td>19</td>\n",
       "      <td>2025-07-05</td>\n",
       "      <td>19</td>\n",
       "      <td>12500926</td>\n",
       "      <td>700</td>\n",
       "      <td>Nein</td>\n",
       "      <td>Damenfahrrad</td>\n",
       "      <td>Fahrraddiebstahl</td>\n",
       "      <td>Sonstiger schwerer Diebstahl von Fahrrädern</td>\n",
       "    </tr>\n",
       "  </tbody>\n",
       "</table>\n",
       "</div>"
      ],
      "text/plain": [
       "  ANGELEGT_AM TATZEIT_ANFANG_DATUM  TATZEIT_ANFANG_STUNDE TATZEIT_ENDE_DATUM  \\\n",
       "0  2025-07-05           2025-07-05                      2         2025-07-05   \n",
       "1  2025-07-05           2025-07-04                     18         2025-07-05   \n",
       "2  2025-07-05           2025-07-05                     11         2025-07-05   \n",
       "3  2025-07-05           2025-07-05                     12         2025-07-05   \n",
       "4  2025-07-05           2025-07-05                     19         2025-07-05   \n",
       "\n",
       "   TATZEIT_ENDE_STUNDE       LOR  SCHADENSHOEHE VERSUCH ART_DES_FAHRRADS  \\\n",
       "0                    2   7200307              0    Nein    Herrenfahrrad   \n",
       "1                    9   4300413            999    Nein    Herrenfahrrad   \n",
       "2                   11   9401431           1300    Nein     Damenfahrrad   \n",
       "3                   16   6100205            779    Nein          Fahrrad   \n",
       "4                   19  12500926            700    Nein     Damenfahrrad   \n",
       "\n",
       "             DELIKT                              ERFASSUNGSGRUND  \n",
       "0  Fahrraddiebstahl  Sonstiger schwerer Diebstahl von Fahrrädern  \n",
       "1  Fahrraddiebstahl  Sonstiger schwerer Diebstahl von Fahrrädern  \n",
       "2  Fahrraddiebstahl  Sonstiger schwerer Diebstahl von Fahrrädern  \n",
       "3  Fahrraddiebstahl  Sonstiger schwerer Diebstahl von Fahrrädern  \n",
       "4  Fahrraddiebstahl  Sonstiger schwerer Diebstahl von Fahrrädern  "
      ]
     },
     "execution_count": 20,
     "metadata": {},
     "output_type": "execute_result"
    }
   ],
   "source": [
    "df.head()"
   ]
  },
  {
   "cell_type": "code",
   "execution_count": 21,
   "id": "320509fe",
   "metadata": {},
   "outputs": [
    {
     "name": "stdout",
     "output_type": "stream",
     "text": [
      "<class 'pandas.core.frame.DataFrame'>\n",
      "RangeIndex: 29887 entries, 0 to 29886\n",
      "Data columns (total 11 columns):\n",
      " #   Column                 Non-Null Count  Dtype \n",
      "---  ------                 --------------  ----- \n",
      " 0   ANGELEGT_AM            29887 non-null  object\n",
      " 1   TATZEIT_ANFANG_DATUM   29887 non-null  object\n",
      " 2   TATZEIT_ANFANG_STUNDE  29887 non-null  int64 \n",
      " 3   TATZEIT_ENDE_DATUM     29887 non-null  object\n",
      " 4   TATZEIT_ENDE_STUNDE    29887 non-null  int64 \n",
      " 5   LOR                    29887 non-null  int64 \n",
      " 6   SCHADENSHOEHE          29887 non-null  int64 \n",
      " 7   VERSUCH                29887 non-null  object\n",
      " 8   ART_DES_FAHRRADS       29887 non-null  object\n",
      " 9   DELIKT                 29887 non-null  object\n",
      " 10  ERFASSUNGSGRUND        29887 non-null  object\n",
      "dtypes: int64(4), object(7)\n",
      "memory usage: 2.5+ MB\n"
     ]
    }
   ],
   "source": [
    "df.info()"
   ]
  },
  {
   "cell_type": "code",
   "execution_count": 22,
   "id": "3be51918",
   "metadata": {},
   "outputs": [],
   "source": [
    "df['ANGELEGT_AM'] = pd.to_datetime(df['ANGELEGT_AM'])\n",
    "df['TATZEIT_ANFANG_DATUM'] = pd.to_datetime(df['TATZEIT_ANFANG_DATUM'])\n",
    "df['TATZEIT_ENDE_DATUM'] = pd.to_datetime(df['TATZEIT_ENDE_DATUM'])"
   ]
  },
  {
   "cell_type": "code",
   "execution_count": 23,
   "id": "ef9d7829",
   "metadata": {},
   "outputs": [
    {
     "name": "stdout",
     "output_type": "stream",
     "text": [
      "<class 'pandas.core.frame.DataFrame'>\n",
      "RangeIndex: 29887 entries, 0 to 29886\n",
      "Data columns (total 11 columns):\n",
      " #   Column                 Non-Null Count  Dtype         \n",
      "---  ------                 --------------  -----         \n",
      " 0   ANGELEGT_AM            29887 non-null  datetime64[ns]\n",
      " 1   TATZEIT_ANFANG_DATUM   29887 non-null  datetime64[ns]\n",
      " 2   TATZEIT_ANFANG_STUNDE  29887 non-null  int64         \n",
      " 3   TATZEIT_ENDE_DATUM     29887 non-null  datetime64[ns]\n",
      " 4   TATZEIT_ENDE_STUNDE    29887 non-null  int64         \n",
      " 5   LOR                    29887 non-null  int64         \n",
      " 6   SCHADENSHOEHE          29887 non-null  int64         \n",
      " 7   VERSUCH                29887 non-null  object        \n",
      " 8   ART_DES_FAHRRADS       29887 non-null  object        \n",
      " 9   DELIKT                 29887 non-null  object        \n",
      " 10  ERFASSUNGSGRUND        29887 non-null  object        \n",
      "dtypes: datetime64[ns](3), int64(4), object(4)\n",
      "memory usage: 2.5+ MB\n"
     ]
    }
   ],
   "source": [
    "df.info()"
   ]
  },
  {
   "cell_type": "code",
   "execution_count": 24,
   "id": "9dbcf124",
   "metadata": {},
   "outputs": [
    {
     "name": "stdout",
     "output_type": "stream",
     "text": [
      "✅ Column 'TATZEIT_ANFANG_STUNDE' has no negative values\n",
      "✅ Column 'TATZEIT_ENDE_STUNDE' has no negative values\n",
      "✅ Column 'LOR' has no negative values\n",
      "✅ Column 'SCHADENSHOEHE' has no negative values\n"
     ]
    }
   ],
   "source": [
    "numeric_cols = df.select_dtypes(include=['int64', 'float64']).columns\n",
    "\n",
    "for col in numeric_cols:\n",
    "    if (df[col] < 0).any():\n",
    "        print(f\"⚠️ Column '{col}' contains negative values\")\n",
    "    else:\n",
    "        print(f\"✅ Column '{col}' has no negative values\")"
   ]
  },
  {
   "cell_type": "code",
   "execution_count": 25,
   "id": "1c56fc6f",
   "metadata": {},
   "outputs": [
    {
     "data": {
      "application/vnd.microsoft.datawrangler.viewer.v0+json": {
       "columns": [
        {
         "name": "TATZEIT_ANFANG_STUNDE",
         "rawType": "int64",
         "type": "integer"
        },
        {
         "name": "count",
         "rawType": "int64",
         "type": "integer"
        }
       ],
       "ref": "4999be48-66cb-4f86-9e41-dbd0bc8fb50a",
       "rows": [
        [
         "0",
         "468"
        ],
        [
         "1",
         "248"
        ],
        [
         "2",
         "174"
        ],
        [
         "3",
         "117"
        ],
        [
         "4",
         "132"
        ],
        [
         "5",
         "179"
        ],
        [
         "6",
         "424"
        ],
        [
         "7",
         "1286"
        ],
        [
         "8",
         "1726"
        ],
        [
         "9",
         "1402"
        ],
        [
         "10",
         "1288"
        ],
        [
         "11",
         "990"
        ],
        [
         "12",
         "1352"
        ],
        [
         "13",
         "1177"
        ],
        [
         "14",
         "1438"
        ],
        [
         "15",
         "1826"
        ],
        [
         "16",
         "2114"
        ],
        [
         "17",
         "2369"
        ],
        [
         "18",
         "3258"
        ],
        [
         "19",
         "2328"
        ],
        [
         "20",
         "2253"
        ],
        [
         "21",
         "1257"
        ],
        [
         "22",
         "1234"
        ],
        [
         "23",
         "847"
        ]
       ],
       "shape": {
        "columns": 1,
        "rows": 24
       }
      },
      "text/plain": [
       "TATZEIT_ANFANG_STUNDE\n",
       "0      468\n",
       "1      248\n",
       "2      174\n",
       "3      117\n",
       "4      132\n",
       "5      179\n",
       "6      424\n",
       "7     1286\n",
       "8     1726\n",
       "9     1402\n",
       "10    1288\n",
       "11     990\n",
       "12    1352\n",
       "13    1177\n",
       "14    1438\n",
       "15    1826\n",
       "16    2114\n",
       "17    2369\n",
       "18    3258\n",
       "19    2328\n",
       "20    2253\n",
       "21    1257\n",
       "22    1234\n",
       "23     847\n",
       "Name: count, dtype: int64"
      ]
     },
     "execution_count": 25,
     "metadata": {},
     "output_type": "execute_result"
    }
   ],
   "source": [
    "df['TATZEIT_ANFANG_STUNDE'].value_counts().sort_index()"
   ]
  },
  {
   "cell_type": "code",
   "execution_count": 26,
   "id": "ffd1ae8f",
   "metadata": {},
   "outputs": [
    {
     "data": {
      "application/vnd.microsoft.datawrangler.viewer.v0+json": {
       "columns": [
        {
         "name": "TATZEIT_ENDE_STUNDE",
         "rawType": "int64",
         "type": "integer"
        },
        {
         "name": "count",
         "rawType": "int64",
         "type": "integer"
        }
       ],
       "ref": "e4710a1a-6821-493d-a253-930bc0c573e5",
       "rows": [
        [
         "0",
         "357"
        ],
        [
         "1",
         "280"
        ],
        [
         "2",
         "219"
        ],
        [
         "3",
         "181"
        ],
        [
         "4",
         "178"
        ],
        [
         "5",
         "280"
        ],
        [
         "6",
         "683"
        ],
        [
         "7",
         "2008"
        ],
        [
         "8",
         "2340"
        ],
        [
         "9",
         "1801"
        ],
        [
         "10",
         "1676"
        ],
        [
         "11",
         "1285"
        ],
        [
         "12",
         "1485"
        ],
        [
         "13",
         "1271"
        ],
        [
         "14",
         "1634"
        ],
        [
         "15",
         "1783"
        ],
        [
         "16",
         "1973"
        ],
        [
         "17",
         "2135"
        ],
        [
         "18",
         "2091"
        ],
        [
         "19",
         "1711"
        ],
        [
         "20",
         "1332"
        ],
        [
         "21",
         "1202"
        ],
        [
         "22",
         "1087"
        ],
        [
         "23",
         "895"
        ]
       ],
       "shape": {
        "columns": 1,
        "rows": 24
       }
      },
      "text/plain": [
       "TATZEIT_ENDE_STUNDE\n",
       "0      357\n",
       "1      280\n",
       "2      219\n",
       "3      181\n",
       "4      178\n",
       "5      280\n",
       "6      683\n",
       "7     2008\n",
       "8     2340\n",
       "9     1801\n",
       "10    1676\n",
       "11    1285\n",
       "12    1485\n",
       "13    1271\n",
       "14    1634\n",
       "15    1783\n",
       "16    1973\n",
       "17    2135\n",
       "18    2091\n",
       "19    1711\n",
       "20    1332\n",
       "21    1202\n",
       "22    1087\n",
       "23     895\n",
       "Name: count, dtype: int64"
      ]
     },
     "execution_count": 26,
     "metadata": {},
     "output_type": "execute_result"
    }
   ],
   "source": [
    "df['TATZEIT_ENDE_STUNDE'].value_counts().sort_index()"
   ]
  },
  {
   "cell_type": "code",
   "execution_count": 27,
   "id": "2bce4cbc",
   "metadata": {},
   "outputs": [],
   "source": [
    "df['TATZEIT_ANFANG_WOCHENTAG'] = df['TATZEIT_ANFANG_DATUM'].dt.day_name()\n",
    "df['TATZEIT_ENDE_WOCHENTAG'] = df['TATZEIT_ENDE_DATUM'].dt.day_name()"
   ]
  },
  {
   "cell_type": "code",
   "execution_count": 28,
   "id": "e95bae58",
   "metadata": {},
   "outputs": [
    {
     "data": {
      "application/vnd.microsoft.datawrangler.viewer.v0+json": {
       "columns": [
        {
         "name": "index",
         "rawType": "int64",
         "type": "integer"
        },
        {
         "name": "ANGELEGT_AM",
         "rawType": "datetime64[ns]",
         "type": "datetime"
        },
        {
         "name": "TATZEIT_ANFANG_DATUM",
         "rawType": "datetime64[ns]",
         "type": "datetime"
        },
        {
         "name": "TATZEIT_ANFANG_STUNDE",
         "rawType": "int64",
         "type": "integer"
        },
        {
         "name": "TATZEIT_ENDE_DATUM",
         "rawType": "datetime64[ns]",
         "type": "datetime"
        },
        {
         "name": "TATZEIT_ENDE_STUNDE",
         "rawType": "int64",
         "type": "integer"
        },
        {
         "name": "LOR",
         "rawType": "int64",
         "type": "integer"
        },
        {
         "name": "SCHADENSHOEHE",
         "rawType": "int64",
         "type": "integer"
        },
        {
         "name": "VERSUCH",
         "rawType": "object",
         "type": "string"
        },
        {
         "name": "ART_DES_FAHRRADS",
         "rawType": "object",
         "type": "string"
        },
        {
         "name": "DELIKT",
         "rawType": "object",
         "type": "string"
        },
        {
         "name": "ERFASSUNGSGRUND",
         "rawType": "object",
         "type": "string"
        },
        {
         "name": "TATZEIT_ANFANG_WOCHENTAG",
         "rawType": "object",
         "type": "string"
        },
        {
         "name": "TATZEIT_ENDE_WOCHENTAG",
         "rawType": "object",
         "type": "string"
        }
       ],
       "ref": "6d197c87-4440-47a8-8fbc-75f7011f9d6b",
       "rows": [
        [
         "0",
         "2025-07-05 00:00:00",
         "2025-07-05 00:00:00",
         "2",
         "2025-07-05 00:00:00",
         "2",
         "7200307",
         "0",
         "Nein",
         "Herrenfahrrad",
         "Fahrraddiebstahl",
         "Sonstiger schwerer Diebstahl von Fahrrädern",
         "Saturday",
         "Saturday"
        ],
        [
         "1",
         "2025-07-05 00:00:00",
         "2025-07-04 00:00:00",
         "18",
         "2025-07-05 00:00:00",
         "9",
         "4300413",
         "999",
         "Nein",
         "Herrenfahrrad",
         "Fahrraddiebstahl",
         "Sonstiger schwerer Diebstahl von Fahrrädern",
         "Friday",
         "Saturday"
        ],
        [
         "2",
         "2025-07-05 00:00:00",
         "2025-07-05 00:00:00",
         "11",
         "2025-07-05 00:00:00",
         "11",
         "9401431",
         "1300",
         "Nein",
         "Damenfahrrad",
         "Fahrraddiebstahl",
         "Sonstiger schwerer Diebstahl von Fahrrädern",
         "Saturday",
         "Saturday"
        ],
        [
         "3",
         "2025-07-05 00:00:00",
         "2025-07-05 00:00:00",
         "12",
         "2025-07-05 00:00:00",
         "16",
         "6100205",
         "779",
         "Nein",
         "Fahrrad",
         "Fahrraddiebstahl",
         "Sonstiger schwerer Diebstahl von Fahrrädern",
         "Saturday",
         "Saturday"
        ],
        [
         "4",
         "2025-07-05 00:00:00",
         "2025-07-05 00:00:00",
         "19",
         "2025-07-05 00:00:00",
         "19",
         "12500926",
         "700",
         "Nein",
         "Damenfahrrad",
         "Fahrraddiebstahl",
         "Sonstiger schwerer Diebstahl von Fahrrädern",
         "Saturday",
         "Saturday"
        ]
       ],
       "shape": {
        "columns": 13,
        "rows": 5
       }
      },
      "text/html": [
       "<div>\n",
       "<style scoped>\n",
       "    .dataframe tbody tr th:only-of-type {\n",
       "        vertical-align: middle;\n",
       "    }\n",
       "\n",
       "    .dataframe tbody tr th {\n",
       "        vertical-align: top;\n",
       "    }\n",
       "\n",
       "    .dataframe thead th {\n",
       "        text-align: right;\n",
       "    }\n",
       "</style>\n",
       "<table border=\"1\" class=\"dataframe\">\n",
       "  <thead>\n",
       "    <tr style=\"text-align: right;\">\n",
       "      <th></th>\n",
       "      <th>ANGELEGT_AM</th>\n",
       "      <th>TATZEIT_ANFANG_DATUM</th>\n",
       "      <th>TATZEIT_ANFANG_STUNDE</th>\n",
       "      <th>TATZEIT_ENDE_DATUM</th>\n",
       "      <th>TATZEIT_ENDE_STUNDE</th>\n",
       "      <th>LOR</th>\n",
       "      <th>SCHADENSHOEHE</th>\n",
       "      <th>VERSUCH</th>\n",
       "      <th>ART_DES_FAHRRADS</th>\n",
       "      <th>DELIKT</th>\n",
       "      <th>ERFASSUNGSGRUND</th>\n",
       "      <th>TATZEIT_ANFANG_WOCHENTAG</th>\n",
       "      <th>TATZEIT_ENDE_WOCHENTAG</th>\n",
       "    </tr>\n",
       "  </thead>\n",
       "  <tbody>\n",
       "    <tr>\n",
       "      <th>0</th>\n",
       "      <td>2025-07-05</td>\n",
       "      <td>2025-07-05</td>\n",
       "      <td>2</td>\n",
       "      <td>2025-07-05</td>\n",
       "      <td>2</td>\n",
       "      <td>7200307</td>\n",
       "      <td>0</td>\n",
       "      <td>Nein</td>\n",
       "      <td>Herrenfahrrad</td>\n",
       "      <td>Fahrraddiebstahl</td>\n",
       "      <td>Sonstiger schwerer Diebstahl von Fahrrädern</td>\n",
       "      <td>Saturday</td>\n",
       "      <td>Saturday</td>\n",
       "    </tr>\n",
       "    <tr>\n",
       "      <th>1</th>\n",
       "      <td>2025-07-05</td>\n",
       "      <td>2025-07-04</td>\n",
       "      <td>18</td>\n",
       "      <td>2025-07-05</td>\n",
       "      <td>9</td>\n",
       "      <td>4300413</td>\n",
       "      <td>999</td>\n",
       "      <td>Nein</td>\n",
       "      <td>Herrenfahrrad</td>\n",
       "      <td>Fahrraddiebstahl</td>\n",
       "      <td>Sonstiger schwerer Diebstahl von Fahrrädern</td>\n",
       "      <td>Friday</td>\n",
       "      <td>Saturday</td>\n",
       "    </tr>\n",
       "    <tr>\n",
       "      <th>2</th>\n",
       "      <td>2025-07-05</td>\n",
       "      <td>2025-07-05</td>\n",
       "      <td>11</td>\n",
       "      <td>2025-07-05</td>\n",
       "      <td>11</td>\n",
       "      <td>9401431</td>\n",
       "      <td>1300</td>\n",
       "      <td>Nein</td>\n",
       "      <td>Damenfahrrad</td>\n",
       "      <td>Fahrraddiebstahl</td>\n",
       "      <td>Sonstiger schwerer Diebstahl von Fahrrädern</td>\n",
       "      <td>Saturday</td>\n",
       "      <td>Saturday</td>\n",
       "    </tr>\n",
       "    <tr>\n",
       "      <th>3</th>\n",
       "      <td>2025-07-05</td>\n",
       "      <td>2025-07-05</td>\n",
       "      <td>12</td>\n",
       "      <td>2025-07-05</td>\n",
       "      <td>16</td>\n",
       "      <td>6100205</td>\n",
       "      <td>779</td>\n",
       "      <td>Nein</td>\n",
       "      <td>Fahrrad</td>\n",
       "      <td>Fahrraddiebstahl</td>\n",
       "      <td>Sonstiger schwerer Diebstahl von Fahrrädern</td>\n",
       "      <td>Saturday</td>\n",
       "      <td>Saturday</td>\n",
       "    </tr>\n",
       "    <tr>\n",
       "      <th>4</th>\n",
       "      <td>2025-07-05</td>\n",
       "      <td>2025-07-05</td>\n",
       "      <td>19</td>\n",
       "      <td>2025-07-05</td>\n",
       "      <td>19</td>\n",
       "      <td>12500926</td>\n",
       "      <td>700</td>\n",
       "      <td>Nein</td>\n",
       "      <td>Damenfahrrad</td>\n",
       "      <td>Fahrraddiebstahl</td>\n",
       "      <td>Sonstiger schwerer Diebstahl von Fahrrädern</td>\n",
       "      <td>Saturday</td>\n",
       "      <td>Saturday</td>\n",
       "    </tr>\n",
       "  </tbody>\n",
       "</table>\n",
       "</div>"
      ],
      "text/plain": [
       "  ANGELEGT_AM TATZEIT_ANFANG_DATUM  TATZEIT_ANFANG_STUNDE TATZEIT_ENDE_DATUM  \\\n",
       "0  2025-07-05           2025-07-05                      2         2025-07-05   \n",
       "1  2025-07-05           2025-07-04                     18         2025-07-05   \n",
       "2  2025-07-05           2025-07-05                     11         2025-07-05   \n",
       "3  2025-07-05           2025-07-05                     12         2025-07-05   \n",
       "4  2025-07-05           2025-07-05                     19         2025-07-05   \n",
       "\n",
       "   TATZEIT_ENDE_STUNDE       LOR  SCHADENSHOEHE VERSUCH ART_DES_FAHRRADS  \\\n",
       "0                    2   7200307              0    Nein    Herrenfahrrad   \n",
       "1                    9   4300413            999    Nein    Herrenfahrrad   \n",
       "2                   11   9401431           1300    Nein     Damenfahrrad   \n",
       "3                   16   6100205            779    Nein          Fahrrad   \n",
       "4                   19  12500926            700    Nein     Damenfahrrad   \n",
       "\n",
       "             DELIKT                              ERFASSUNGSGRUND  \\\n",
       "0  Fahrraddiebstahl  Sonstiger schwerer Diebstahl von Fahrrädern   \n",
       "1  Fahrraddiebstahl  Sonstiger schwerer Diebstahl von Fahrrädern   \n",
       "2  Fahrraddiebstahl  Sonstiger schwerer Diebstahl von Fahrrädern   \n",
       "3  Fahrraddiebstahl  Sonstiger schwerer Diebstahl von Fahrrädern   \n",
       "4  Fahrraddiebstahl  Sonstiger schwerer Diebstahl von Fahrrädern   \n",
       "\n",
       "  TATZEIT_ANFANG_WOCHENTAG TATZEIT_ENDE_WOCHENTAG  \n",
       "0                 Saturday               Saturday  \n",
       "1                   Friday               Saturday  \n",
       "2                 Saturday               Saturday  \n",
       "3                 Saturday               Saturday  \n",
       "4                 Saturday               Saturday  "
      ]
     },
     "execution_count": 28,
     "metadata": {},
     "output_type": "execute_result"
    }
   ],
   "source": [
    "df.head()"
   ]
  },
  {
   "cell_type": "code",
   "execution_count": null,
   "id": "465a9b69",
   "metadata": {},
   "outputs": [],
   "source": []
  },
  {
   "cell_type": "code",
   "execution_count": 29,
   "id": "f7e0e43a",
   "metadata": {},
   "outputs": [
    {
     "data": {
      "application/vnd.microsoft.datawrangler.viewer.v0+json": {
       "columns": [
        {
         "name": "LOR",
         "rawType": "int64",
         "type": "integer"
        },
        {
         "name": "count",
         "rawType": "int64",
         "type": "integer"
        }
       ],
       "ref": "17ed5001-c37a-4e8d-813e-61cc7ddc165c",
       "rows": [
        [
         "1100101",
         "47"
        ],
        [
         "1100102",
         "163"
        ],
        [
         "1100103",
         "107"
        ],
        [
         "1100104",
         "83"
        ],
        [
         "1100205",
         "51"
        ],
        [
         "1100206",
         "212"
        ],
        [
         "1100207",
         "134"
        ],
        [
         "1100308",
         "314"
        ],
        [
         "1100309",
         "267"
        ],
        [
         "1100310",
         "226"
        ],
        [
         "1100311",
         "120"
        ],
        [
         "1100312",
         "135"
        ],
        [
         "1100313",
         "122"
        ],
        [
         "1100414",
         "163"
        ],
        [
         "1100415",
         "220"
        ],
        [
         "1100416",
         "164"
        ],
        [
         "1200517",
         "46"
        ],
        [
         "1200518",
         "26"
        ],
        [
         "1200519",
         "53"
        ],
        [
         "1200520",
         "105"
        ],
        [
         "1200521",
         "37"
        ],
        [
         "1200522",
         "95"
        ],
        [
         "1200623",
         "105"
        ],
        [
         "1200624",
         "98"
        ],
        [
         "1200625",
         "55"
        ],
        [
         "1200626",
         "70"
        ],
        [
         "1200627",
         "11"
        ],
        [
         "1200628",
         "74"
        ],
        [
         "1200629",
         "78"
        ],
        [
         "1300730",
         "115"
        ],
        [
         "1300731",
         "44"
        ],
        [
         "1300732",
         "37"
        ],
        [
         "1300733",
         "113"
        ],
        [
         "1300834",
         "120"
        ],
        [
         "1300835",
         "72"
        ],
        [
         "1300836",
         "212"
        ],
        [
         "1400937",
         "74"
        ],
        [
         "1400938",
         "200"
        ],
        [
         "1400939",
         "46"
        ],
        [
         "1400940",
         "61"
        ],
        [
         "1400941",
         "16"
        ],
        [
         "1400942",
         "132"
        ],
        [
         "1401043",
         "62"
        ],
        [
         "1401044",
         "81"
        ],
        [
         "1401045",
         "59"
        ],
        [
         "1401046",
         "102"
        ],
        [
         "1401047",
         "113"
        ],
        [
         "1401048",
         "137"
        ],
        [
         "1401049",
         "48"
        ],
        [
         "2100101",
         "106"
        ]
       ],
       "shape": {
        "columns": 1,
        "rows": 537
       }
      },
      "text/plain": [
       "LOR\n",
       "1100101      47\n",
       "1100102     163\n",
       "1100103     107\n",
       "1100104      83\n",
       "1100205      51\n",
       "           ... \n",
       "12601032      9\n",
       "12601133     13\n",
       "12601134     40\n",
       "12601235     18\n",
       "12601236      2\n",
       "Name: count, Length: 537, dtype: int64"
      ]
     },
     "execution_count": 29,
     "metadata": {},
     "output_type": "execute_result"
    }
   ],
   "source": [
    "df['LOR'].value_counts().sort_index()"
   ]
  },
  {
   "cell_type": "code",
   "execution_count": 30,
   "id": "becbc6ad",
   "metadata": {},
   "outputs": [],
   "source": [
    "df['ANGELEGT_AM'] = pd.to_datetime(df['ANGELEGT_AM'])\n",
    "df['TATZEIT_ANFANG_DATUM'] = pd.to_datetime(df['TATZEIT_ANFANG_DATUM'])\n",
    "df['TATZEIT_ENDE_DATUM'] = pd.to_datetime(df['TATZEIT_ENDE_DATUM'])"
   ]
  },
  {
   "cell_type": "code",
   "execution_count": 31,
   "id": "8832957d",
   "metadata": {},
   "outputs": [
    {
     "data": {
      "application/vnd.microsoft.datawrangler.viewer.v0+json": {
       "columns": [
        {
         "name": "index",
         "rawType": "int64",
         "type": "integer"
        },
        {
         "name": "ANGELEGT_AM",
         "rawType": "datetime64[ns]",
         "type": "datetime"
        },
        {
         "name": "TATZEIT_ANFANG_DATUM",
         "rawType": "datetime64[ns]",
         "type": "datetime"
        },
        {
         "name": "TATZEIT_ANFANG_STUNDE",
         "rawType": "int64",
         "type": "integer"
        },
        {
         "name": "TATZEIT_ENDE_DATUM",
         "rawType": "datetime64[ns]",
         "type": "datetime"
        },
        {
         "name": "TATZEIT_ENDE_STUNDE",
         "rawType": "int64",
         "type": "integer"
        },
        {
         "name": "LOR",
         "rawType": "int64",
         "type": "integer"
        },
        {
         "name": "SCHADENSHOEHE",
         "rawType": "int64",
         "type": "integer"
        },
        {
         "name": "VERSUCH",
         "rawType": "object",
         "type": "string"
        },
        {
         "name": "ART_DES_FAHRRADS",
         "rawType": "object",
         "type": "string"
        },
        {
         "name": "DELIKT",
         "rawType": "object",
         "type": "string"
        },
        {
         "name": "ERFASSUNGSGRUND",
         "rawType": "object",
         "type": "string"
        },
        {
         "name": "TATZEIT_ANFANG_WOCHENTAG",
         "rawType": "object",
         "type": "string"
        },
        {
         "name": "TATZEIT_ENDE_WOCHENTAG",
         "rawType": "object",
         "type": "string"
        }
       ],
       "ref": "260734a3-3dc2-404b-acd5-75203ebc804f",
       "rows": [
        [
         "0",
         "2025-07-05 00:00:00",
         "2025-07-05 00:00:00",
         "2",
         "2025-07-05 00:00:00",
         "2",
         "7200307",
         "0",
         "Nein",
         "Herrenfahrrad",
         "Fahrraddiebstahl",
         "Sonstiger schwerer Diebstahl von Fahrrädern",
         "Saturday",
         "Saturday"
        ],
        [
         "1",
         "2025-07-05 00:00:00",
         "2025-07-04 00:00:00",
         "18",
         "2025-07-05 00:00:00",
         "9",
         "4300413",
         "999",
         "Nein",
         "Herrenfahrrad",
         "Fahrraddiebstahl",
         "Sonstiger schwerer Diebstahl von Fahrrädern",
         "Friday",
         "Saturday"
        ],
        [
         "2",
         "2025-07-05 00:00:00",
         "2025-07-05 00:00:00",
         "11",
         "2025-07-05 00:00:00",
         "11",
         "9401431",
         "1300",
         "Nein",
         "Damenfahrrad",
         "Fahrraddiebstahl",
         "Sonstiger schwerer Diebstahl von Fahrrädern",
         "Saturday",
         "Saturday"
        ],
        [
         "3",
         "2025-07-05 00:00:00",
         "2025-07-05 00:00:00",
         "12",
         "2025-07-05 00:00:00",
         "16",
         "6100205",
         "779",
         "Nein",
         "Fahrrad",
         "Fahrraddiebstahl",
         "Sonstiger schwerer Diebstahl von Fahrrädern",
         "Saturday",
         "Saturday"
        ],
        [
         "4",
         "2025-07-05 00:00:00",
         "2025-07-05 00:00:00",
         "19",
         "2025-07-05 00:00:00",
         "19",
         "12500926",
         "700",
         "Nein",
         "Damenfahrrad",
         "Fahrraddiebstahl",
         "Sonstiger schwerer Diebstahl von Fahrrädern",
         "Saturday",
         "Saturday"
        ],
        [
         "5",
         "2025-07-05 00:00:00",
         "2025-07-04 00:00:00",
         "22",
         "2025-07-05 00:00:00",
         "7",
         "2200211",
         "1123",
         "Nein",
         "Herrenfahrrad",
         "Fahrraddiebstahl",
         "Sonstiger schwerer Diebstahl von Fahrrädern",
         "Friday",
         "Saturday"
        ],
        [
         "6",
         "2025-07-05 00:00:00",
         "2025-07-03 00:00:00",
         "12",
         "2025-07-03 00:00:00",
         "15",
         "4300622",
         "700",
         "Nein",
         "Herrenfahrrad",
         "Fahrraddiebstahl",
         "Sonstiger schwerer Diebstahl von Fahrrädern",
         "Thursday",
         "Thursday"
        ],
        [
         "7",
         "2025-07-05 00:00:00",
         "2025-07-04 00:00:00",
         "22",
         "2025-07-05 00:00:00",
         "8",
         "3601141",
         "490",
         "Nein",
         "Damenfahrrad",
         "Fahrraddiebstahl",
         "Sonstiger schwerer Diebstahl von Fahrrädern",
         "Friday",
         "Saturday"
        ],
        [
         "8",
         "2025-07-05 00:00:00",
         "2025-07-05 00:00:00",
         "16",
         "2025-07-05 00:00:00",
         "16",
         "12100204",
         "270",
         "Nein",
         "Herrenfahrrad",
         "Fahrraddiebstahl",
         "Sonstiger schwerer Diebstahl von Fahrrädern",
         "Saturday",
         "Saturday"
        ],
        [
         "9",
         "2025-07-05 00:00:00",
         "2025-06-29 00:00:00",
         "18",
         "2025-06-30 00:00:00",
         "7",
         "10200629",
         "439",
         "Nein",
         "Damenfahrrad",
         "Fahrraddiebstahl",
         "Sonstiger schwerer Diebstahl von Fahrrädern",
         "Sunday",
         "Monday"
        ],
        [
         "10",
         "2025-07-05 00:00:00",
         "2025-07-05 00:00:00",
         "10",
         "2025-07-05 00:00:00",
         "10",
         "7501030",
         "2101",
         "Nein",
         "diverse Fahrräder",
         "Keller- und Bodeneinbruch",
         "Sonstiger schwerer Diebstahl in/aus Keller/Boden von Fahrrädern",
         "Saturday",
         "Saturday"
        ],
        [
         "11",
         "2025-07-05 00:00:00",
         "2025-07-04 00:00:00",
         "19",
         "2025-07-04 00:00:00",
         "22",
         "8100416",
         "2200",
         "Nein",
         "Fahrrad",
         "Fahrraddiebstahl",
         "Sonstiger schwerer Diebstahl von Fahrrädern",
         "Friday",
         "Friday"
        ],
        [
         "12",
         "2025-07-05 00:00:00",
         "2025-07-03 00:00:00",
         "19",
         "2025-07-04 00:00:00",
         "6",
         "2500834",
         "1990",
         "Nein",
         "Fahrrad",
         "Fahrraddiebstahl",
         "Sonstiger schwerer Diebstahl von Fahrrädern",
         "Thursday",
         "Friday"
        ],
        [
         "13",
         "2025-07-05 00:00:00",
         "2025-07-05 00:00:00",
         "11",
         "2025-07-05 00:00:00",
         "11",
         "1401049",
         "250",
         "Nein",
         "Damenfahrrad",
         "Fahrraddiebstahl",
         "Sonstiger schwerer Diebstahl von Fahrrädern",
         "Saturday",
         "Saturday"
        ],
        [
         "14",
         "2025-07-05 00:00:00",
         "2025-07-04 00:00:00",
         "23",
         "2025-07-05 00:00:00",
         "10",
         "7501133",
         "1150",
         "Nein",
         "Herrenfahrrad",
         "Fahrraddiebstahl",
         "Sonstiger schwerer Diebstahl von Fahrrädern",
         "Friday",
         "Saturday"
        ],
        [
         "15",
         "2025-07-05 00:00:00",
         "2025-07-04 00:00:00",
         "19",
         "2025-07-05 00:00:00",
         "16",
         "9100408",
         "0",
         "Nein",
         "Kinderfahrrad",
         "Fahrraddiebstahl",
         "Sonstiger schwerer Diebstahl von Fahrrädern",
         "Friday",
         "Saturday"
        ],
        [
         "16",
         "2025-07-05 00:00:00",
         "2025-07-04 00:00:00",
         "13",
         "2025-07-05 00:00:00",
         "16",
         "7300517",
         "559",
         "Nein",
         "Herrenfahrrad",
         "Fahrraddiebstahl",
         "Sonstiger schwerer Diebstahl von Fahrrädern",
         "Friday",
         "Saturday"
        ],
        [
         "17",
         "2025-07-05 00:00:00",
         "2025-07-03 00:00:00",
         "18",
         "2025-07-03 00:00:00",
         "20",
         "9501838",
         "799",
         "Nein",
         "Damenfahrrad",
         "Fahrraddiebstahl",
         "Sonstiger schwerer Diebstahl von Fahrrädern",
         "Thursday",
         "Thursday"
        ],
        [
         "18",
         "2025-07-05 00:00:00",
         "2025-07-05 00:00:00",
         "21",
         "2025-07-05 00:00:00",
         "21",
         "1100206",
         "1300",
         "Nein",
         "Fahrrad",
         "Fahrraddiebstahl",
         "Sonstiger schwerer Diebstahl von Fahrrädern",
         "Saturday",
         "Saturday"
        ],
        [
         "19",
         "2025-07-05 00:00:00",
         "2025-07-03 00:00:00",
         "19",
         "2025-07-04 00:00:00",
         "6",
         "2500834",
         "1990",
         "Nein",
         "Fahrrad",
         "Fahrraddiebstahl",
         "Sonstiger schwerer Diebstahl von Fahrrädern",
         "Thursday",
         "Friday"
        ],
        [
         "20",
         "2025-07-05 00:00:00",
         "2025-07-03 00:00:00",
         "7",
         "2025-07-03 00:00:00",
         "18",
         "9200715",
         "574",
         "Nein",
         "Herrenfahrrad",
         "Fahrraddiebstahl",
         "Sonstiger schwerer Diebstahl von Fahrrädern",
         "Thursday",
         "Thursday"
        ],
        [
         "21",
         "2025-07-05 00:00:00",
         "2025-07-04 00:00:00",
         "18",
         "2025-07-05 00:00:00",
         "12",
         "12500928",
         "1000",
         "Nein",
         "Fahrrad",
         "Keller- und Bodeneinbruch",
         "Sonstiger schwerer Diebstahl in/aus Keller/Boden von Fahrrädern",
         "Friday",
         "Saturday"
        ],
        [
         "22",
         "2025-07-05 00:00:00",
         "2025-07-05 00:00:00",
         "13",
         "2025-07-05 00:00:00",
         "14",
         "5100316",
         "1200",
         "Nein",
         "Damenfahrrad",
         "Fahrraddiebstahl",
         "Sonstiger schwerer Diebstahl von Fahrrädern",
         "Saturday",
         "Saturday"
        ],
        [
         "23",
         "2025-07-05 00:00:00",
         "2025-07-05 00:00:00",
         "18",
         "2025-07-05 00:00:00",
         "22",
         "1100206",
         "2490",
         "Nein",
         "Herrenfahrrad",
         "Fahrraddiebstahl",
         "Sonstiger schwerer Diebstahl von Fahrrädern",
         "Saturday",
         "Saturday"
        ],
        [
         "24",
         "2025-07-05 00:00:00",
         "2025-07-04 00:00:00",
         "17",
         "2025-07-05 00:00:00",
         "13",
         "4300623",
         "0",
         "Nein",
         "Damenfahrrad",
         "Fahrraddiebstahl",
         "Sonstiger schwerer Diebstahl von Fahrrädern",
         "Friday",
         "Saturday"
        ],
        [
         "25",
         "2025-07-05 00:00:00",
         "2025-07-05 00:00:00",
         "12",
         "2025-07-05 00:00:00",
         "12",
         "3400723",
         "4203",
         "Nein",
         "Damenfahrrad",
         "Fahrraddiebstahl",
         "Sonstiger schwerer Diebstahl von Fahrrädern",
         "Saturday",
         "Saturday"
        ],
        [
         "26",
         "2025-07-05 00:00:00",
         "2025-07-05 00:00:00",
         "16",
         "2025-07-05 00:00:00",
         "18",
         "2400625",
         "64",
         "Nein",
         "Kinderfahrrad",
         "Fahrraddiebstahl",
         "Sonstiger schwerer Diebstahl von Fahrrädern",
         "Saturday",
         "Saturday"
        ],
        [
         "27",
         "2025-07-05 00:00:00",
         "2025-07-04 00:00:00",
         "19",
         "2025-07-04 00:00:00",
         "22",
         "11400927",
         "1800",
         "Nein",
         "Fahrrad",
         "Fahrraddiebstahl",
         "Sonstiger schwerer Diebstahl von Fahrrädern",
         "Friday",
         "Friday"
        ],
        [
         "28",
         "2025-07-05 00:00:00",
         "2025-07-04 00:00:00",
         "20",
         "2025-07-05 00:00:00",
         "3",
         "1401046",
         "805",
         "Nein",
         "Damenfahrrad",
         "Fahrraddiebstahl",
         "Sonstiger schwerer Diebstahl von Fahrrädern",
         "Friday",
         "Saturday"
        ],
        [
         "29",
         "2025-07-05 00:00:00",
         "2025-07-03 00:00:00",
         "18",
         "2025-07-04 00:00:00",
         "17",
         "1100308",
         "355",
         "Nein",
         "Damenfahrrad",
         "Fahrraddiebstahl",
         "Sonstiger schwerer Diebstahl von Fahrrädern",
         "Thursday",
         "Friday"
        ],
        [
         "30",
         "2025-07-05 00:00:00",
         "2025-07-03 00:00:00",
         "13",
         "2025-07-03 00:00:00",
         "18",
         "2300315",
         "280",
         "Nein",
         "Damenfahrrad",
         "Fahrraddiebstahl",
         "Einfacher Diebstahl von Fahrrädern",
         "Thursday",
         "Thursday"
        ],
        [
         "31",
         "2025-07-05 00:00:00",
         "2025-07-05 00:00:00",
         "19",
         "2025-07-05 00:00:00",
         "22",
         "1100309",
         "3370",
         "Nein",
         "Damenfahrrad",
         "Fahrraddiebstahl",
         "Sonstiger schwerer Diebstahl von Fahrrädern",
         "Saturday",
         "Saturday"
        ],
        [
         "32",
         "2025-07-05 00:00:00",
         "2025-07-05 00:00:00",
         "11",
         "2025-07-05 00:00:00",
         "22",
         "7200412",
         "999",
         "Nein",
         "Herrenfahrrad",
         "Fahrraddiebstahl",
         "Sonstiger schwerer Diebstahl von Fahrrädern",
         "Saturday",
         "Saturday"
        ],
        [
         "33",
         "2025-07-04 00:00:00",
         "2025-06-29 00:00:00",
         "14",
         "2025-06-29 00:00:00",
         "17",
         "2200207",
         "1810",
         "Nein",
         "Herrenfahrrad",
         "Fahrraddiebstahl",
         "Sonstiger schwerer Diebstahl von Fahrrädern",
         "Sunday",
         "Sunday"
        ],
        [
         "34",
         "2025-07-04 00:00:00",
         "2025-07-03 00:00:00",
         "10",
         "2025-07-03 00:00:00",
         "15",
         "4501146",
         "2690",
         "Nein",
         "Herrenfahrrad",
         "Fahrraddiebstahl",
         "Sonstiger schwerer Diebstahl von Fahrrädern",
         "Thursday",
         "Thursday"
        ],
        [
         "35",
         "2025-07-04 00:00:00",
         "2025-06-26 00:00:00",
         "18",
         "2025-06-28 00:00:00",
         "19",
         "4200309",
         "600",
         "Nein",
         "Herrenfahrrad",
         "Fahrraddiebstahl",
         "Sonstiger schwerer Diebstahl von Fahrrädern",
         "Thursday",
         "Saturday"
        ],
        [
         "36",
         "2025-07-04 00:00:00",
         "2025-07-02 00:00:00",
         "14",
         "2025-07-03 00:00:00",
         "8",
         "1100311",
         "888",
         "Nein",
         "Fahrrad",
         "Fahrraddiebstahl",
         "Sonstiger schwerer Diebstahl von Fahrrädern",
         "Wednesday",
         "Thursday"
        ],
        [
         "37",
         "2025-07-04 00:00:00",
         "2025-07-04 00:00:00",
         "7",
         "2025-07-04 00:00:00",
         "14",
         "1400938",
         "750",
         "Nein",
         "Herrenfahrrad",
         "Fahrraddiebstahl",
         "Sonstiger schwerer Diebstahl von Fahrrädern",
         "Friday",
         "Friday"
        ],
        [
         "38",
         "2025-07-04 00:00:00",
         "2025-07-02 00:00:00",
         "23",
         "2025-07-03 00:00:00",
         "12",
         "3400826",
         "894",
         "Nein",
         "Herrenfahrrad",
         "Fahrraddiebstahl",
         "Sonstiger schwerer Diebstahl von Fahrrädern",
         "Wednesday",
         "Thursday"
        ],
        [
         "39",
         "2025-07-04 00:00:00",
         "2025-06-01 00:00:00",
         "21",
         "2025-06-04 00:00:00",
         "20",
         "4501146",
         "1400",
         "Nein",
         "Fahrrad",
         "Fahrraddiebstahl",
         "Sonstiger schwerer Diebstahl von Fahrrädern",
         "Sunday",
         "Wednesday"
        ],
        [
         "40",
         "2025-07-04 00:00:00",
         "2025-07-04 00:00:00",
         "4",
         "2025-07-04 00:00:00",
         "5",
         "5400943",
         "2000",
         "Nein",
         "Herrenfahrrad",
         "Fahrraddiebstahl",
         "Einfacher Diebstahl von Fahrrädern",
         "Friday",
         "Friday"
        ],
        [
         "41",
         "2025-07-04 00:00:00",
         "2025-07-03 00:00:00",
         "19",
         "2025-07-04 00:00:00",
         "7",
         "6100206",
         "847",
         "Nein",
         "Herrenfahrrad",
         "Fahrraddiebstahl",
         "Sonstiger schwerer Diebstahl von Fahrrädern",
         "Thursday",
         "Friday"
        ],
        [
         "42",
         "2025-07-04 00:00:00",
         "2025-06-22 00:00:00",
         "12",
         "2025-06-23 00:00:00",
         "7",
         "3400831",
         "899",
         "Nein",
         "Damenfahrrad",
         "Fahrraddiebstahl",
         "Sonstiger schwerer Diebstahl von Fahrrädern",
         "Sunday",
         "Monday"
        ],
        [
         "43",
         "2025-07-04 00:00:00",
         "2025-07-02 00:00:00",
         "15",
         "2025-07-02 00:00:00",
         "16",
         "1401047",
         "439",
         "Nein",
         "Kinderfahrrad",
         "Fahrraddiebstahl",
         "Sonstiger schwerer Diebstahl von Fahrrädern",
         "Wednesday",
         "Wednesday"
        ],
        [
         "44",
         "2025-07-04 00:00:00",
         "2025-07-02 00:00:00",
         "10",
         "2025-07-03 00:00:00",
         "22",
         "6400839",
         "600",
         "Nein",
         "Herrenfahrrad",
         "Fahrraddiebstahl",
         "Sonstiger schwerer Diebstahl von Fahrrädern",
         "Wednesday",
         "Thursday"
        ],
        [
         "45",
         "2025-07-04 00:00:00",
         "2025-07-03 00:00:00",
         "14",
         "2025-07-04 00:00:00",
         "5",
         "7601546",
         "638",
         "Nein",
         "Herrenfahrrad",
         "Fahrraddiebstahl",
         "Sonstiger schwerer Diebstahl von Fahrrädern",
         "Thursday",
         "Friday"
        ],
        [
         "46",
         "2025-07-04 00:00:00",
         "2025-07-02 00:00:00",
         "7",
         "2025-07-02 00:00:00",
         "14",
         "10300733",
         "581",
         "Nein",
         "Fahrrad",
         "Fahrraddiebstahl",
         "Sonstiger schwerer Diebstahl von Fahrrädern",
         "Wednesday",
         "Wednesday"
        ],
        [
         "47",
         "2025-07-04 00:00:00",
         "2025-07-03 00:00:00",
         "11",
         "2025-07-03 00:00:00",
         "11",
         "6200422",
         "1285",
         "Nein",
         "Fahrrad",
         "Fahrraddiebstahl",
         "Sonstiger schwerer Diebstahl von Fahrrädern",
         "Thursday",
         "Thursday"
        ],
        [
         "48",
         "2025-07-04 00:00:00",
         "2025-07-04 00:00:00",
         "13",
         "2025-07-04 00:00:00",
         "16",
         "7601544",
         "512",
         "Nein",
         "Damenfahrrad",
         "Fahrraddiebstahl",
         "Sonstiger schwerer Diebstahl von Fahrrädern",
         "Friday",
         "Friday"
        ],
        [
         "49",
         "2025-07-04 00:00:00",
         "2025-06-30 00:00:00",
         "7",
         "2025-06-30 00:00:00",
         "7",
         "1200521",
         "4070",
         "Nein",
         "Fahrrad",
         "Fahrraddiebstahl",
         "Einfacher Diebstahl von Fahrrädern",
         "Monday",
         "Monday"
        ]
       ],
       "shape": {
        "columns": 13,
        "rows": 29887
       }
      },
      "text/html": [
       "<div>\n",
       "<style scoped>\n",
       "    .dataframe tbody tr th:only-of-type {\n",
       "        vertical-align: middle;\n",
       "    }\n",
       "\n",
       "    .dataframe tbody tr th {\n",
       "        vertical-align: top;\n",
       "    }\n",
       "\n",
       "    .dataframe thead th {\n",
       "        text-align: right;\n",
       "    }\n",
       "</style>\n",
       "<table border=\"1\" class=\"dataframe\">\n",
       "  <thead>\n",
       "    <tr style=\"text-align: right;\">\n",
       "      <th></th>\n",
       "      <th>ANGELEGT_AM</th>\n",
       "      <th>TATZEIT_ANFANG_DATUM</th>\n",
       "      <th>TATZEIT_ANFANG_STUNDE</th>\n",
       "      <th>TATZEIT_ENDE_DATUM</th>\n",
       "      <th>TATZEIT_ENDE_STUNDE</th>\n",
       "      <th>LOR</th>\n",
       "      <th>SCHADENSHOEHE</th>\n",
       "      <th>VERSUCH</th>\n",
       "      <th>ART_DES_FAHRRADS</th>\n",
       "      <th>DELIKT</th>\n",
       "      <th>ERFASSUNGSGRUND</th>\n",
       "      <th>TATZEIT_ANFANG_WOCHENTAG</th>\n",
       "      <th>TATZEIT_ENDE_WOCHENTAG</th>\n",
       "    </tr>\n",
       "  </thead>\n",
       "  <tbody>\n",
       "    <tr>\n",
       "      <th>0</th>\n",
       "      <td>2025-07-05</td>\n",
       "      <td>2025-07-05</td>\n",
       "      <td>2</td>\n",
       "      <td>2025-07-05</td>\n",
       "      <td>2</td>\n",
       "      <td>7200307</td>\n",
       "      <td>0</td>\n",
       "      <td>Nein</td>\n",
       "      <td>Herrenfahrrad</td>\n",
       "      <td>Fahrraddiebstahl</td>\n",
       "      <td>Sonstiger schwerer Diebstahl von Fahrrädern</td>\n",
       "      <td>Saturday</td>\n",
       "      <td>Saturday</td>\n",
       "    </tr>\n",
       "    <tr>\n",
       "      <th>1</th>\n",
       "      <td>2025-07-05</td>\n",
       "      <td>2025-07-04</td>\n",
       "      <td>18</td>\n",
       "      <td>2025-07-05</td>\n",
       "      <td>9</td>\n",
       "      <td>4300413</td>\n",
       "      <td>999</td>\n",
       "      <td>Nein</td>\n",
       "      <td>Herrenfahrrad</td>\n",
       "      <td>Fahrraddiebstahl</td>\n",
       "      <td>Sonstiger schwerer Diebstahl von Fahrrädern</td>\n",
       "      <td>Friday</td>\n",
       "      <td>Saturday</td>\n",
       "    </tr>\n",
       "    <tr>\n",
       "      <th>2</th>\n",
       "      <td>2025-07-05</td>\n",
       "      <td>2025-07-05</td>\n",
       "      <td>11</td>\n",
       "      <td>2025-07-05</td>\n",
       "      <td>11</td>\n",
       "      <td>9401431</td>\n",
       "      <td>1300</td>\n",
       "      <td>Nein</td>\n",
       "      <td>Damenfahrrad</td>\n",
       "      <td>Fahrraddiebstahl</td>\n",
       "      <td>Sonstiger schwerer Diebstahl von Fahrrädern</td>\n",
       "      <td>Saturday</td>\n",
       "      <td>Saturday</td>\n",
       "    </tr>\n",
       "    <tr>\n",
       "      <th>3</th>\n",
       "      <td>2025-07-05</td>\n",
       "      <td>2025-07-05</td>\n",
       "      <td>12</td>\n",
       "      <td>2025-07-05</td>\n",
       "      <td>16</td>\n",
       "      <td>6100205</td>\n",
       "      <td>779</td>\n",
       "      <td>Nein</td>\n",
       "      <td>Fahrrad</td>\n",
       "      <td>Fahrraddiebstahl</td>\n",
       "      <td>Sonstiger schwerer Diebstahl von Fahrrädern</td>\n",
       "      <td>Saturday</td>\n",
       "      <td>Saturday</td>\n",
       "    </tr>\n",
       "    <tr>\n",
       "      <th>4</th>\n",
       "      <td>2025-07-05</td>\n",
       "      <td>2025-07-05</td>\n",
       "      <td>19</td>\n",
       "      <td>2025-07-05</td>\n",
       "      <td>19</td>\n",
       "      <td>12500926</td>\n",
       "      <td>700</td>\n",
       "      <td>Nein</td>\n",
       "      <td>Damenfahrrad</td>\n",
       "      <td>Fahrraddiebstahl</td>\n",
       "      <td>Sonstiger schwerer Diebstahl von Fahrrädern</td>\n",
       "      <td>Saturday</td>\n",
       "      <td>Saturday</td>\n",
       "    </tr>\n",
       "    <tr>\n",
       "      <th>...</th>\n",
       "      <td>...</td>\n",
       "      <td>...</td>\n",
       "      <td>...</td>\n",
       "      <td>...</td>\n",
       "      <td>...</td>\n",
       "      <td>...</td>\n",
       "      <td>...</td>\n",
       "      <td>...</td>\n",
       "      <td>...</td>\n",
       "      <td>...</td>\n",
       "      <td>...</td>\n",
       "      <td>...</td>\n",
       "      <td>...</td>\n",
       "    </tr>\n",
       "    <tr>\n",
       "      <th>29882</th>\n",
       "      <td>2024-01-02</td>\n",
       "      <td>2024-01-02</td>\n",
       "      <td>10</td>\n",
       "      <td>2024-01-02</td>\n",
       "      <td>10</td>\n",
       "      <td>3601244</td>\n",
       "      <td>308</td>\n",
       "      <td>Nein</td>\n",
       "      <td>Damenfahrrad</td>\n",
       "      <td>Fahrraddiebstahl</td>\n",
       "      <td>Sonstiger schwerer Diebstahl von Fahrrädern</td>\n",
       "      <td>Tuesday</td>\n",
       "      <td>Tuesday</td>\n",
       "    </tr>\n",
       "    <tr>\n",
       "      <th>29883</th>\n",
       "      <td>2024-01-02</td>\n",
       "      <td>2024-01-01</td>\n",
       "      <td>17</td>\n",
       "      <td>2024-01-02</td>\n",
       "      <td>12</td>\n",
       "      <td>4400727</td>\n",
       "      <td>2900</td>\n",
       "      <td>Nein</td>\n",
       "      <td>Herrenfahrrad</td>\n",
       "      <td>Fahrraddiebstahl</td>\n",
       "      <td>Sonstiger schwerer Diebstahl von Fahrrädern</td>\n",
       "      <td>Monday</td>\n",
       "      <td>Tuesday</td>\n",
       "    </tr>\n",
       "    <tr>\n",
       "      <th>29884</th>\n",
       "      <td>2024-01-01</td>\n",
       "      <td>2024-01-01</td>\n",
       "      <td>7</td>\n",
       "      <td>2024-01-01</td>\n",
       "      <td>13</td>\n",
       "      <td>3701554</td>\n",
       "      <td>6700</td>\n",
       "      <td>Nein</td>\n",
       "      <td>Fahrrad</td>\n",
       "      <td>Fahrraddiebstahl</td>\n",
       "      <td>Sonstiger schwerer Diebstahl von Fahrrädern</td>\n",
       "      <td>Monday</td>\n",
       "      <td>Monday</td>\n",
       "    </tr>\n",
       "    <tr>\n",
       "      <th>29885</th>\n",
       "      <td>2024-01-01</td>\n",
       "      <td>2024-01-01</td>\n",
       "      <td>14</td>\n",
       "      <td>2024-01-01</td>\n",
       "      <td>16</td>\n",
       "      <td>6300632</td>\n",
       "      <td>899</td>\n",
       "      <td>Nein</td>\n",
       "      <td>diverse Fahrräder</td>\n",
       "      <td>Fahrraddiebstahl</td>\n",
       "      <td>Sonstiger schwerer Diebstahl von Fahrrädern</td>\n",
       "      <td>Monday</td>\n",
       "      <td>Monday</td>\n",
       "    </tr>\n",
       "    <tr>\n",
       "      <th>29886</th>\n",
       "      <td>2024-01-01</td>\n",
       "      <td>2024-01-01</td>\n",
       "      <td>19</td>\n",
       "      <td>2024-01-01</td>\n",
       "      <td>19</td>\n",
       "      <td>10300731</td>\n",
       "      <td>1</td>\n",
       "      <td>Nein</td>\n",
       "      <td>diverse Fahrräder</td>\n",
       "      <td>Fahrraddiebstahl</td>\n",
       "      <td>Sonstiger schwerer Diebstahl von Fahrrädern</td>\n",
       "      <td>Monday</td>\n",
       "      <td>Monday</td>\n",
       "    </tr>\n",
       "  </tbody>\n",
       "</table>\n",
       "<p>29887 rows × 13 columns</p>\n",
       "</div>"
      ],
      "text/plain": [
       "      ANGELEGT_AM TATZEIT_ANFANG_DATUM  TATZEIT_ANFANG_STUNDE  \\\n",
       "0      2025-07-05           2025-07-05                      2   \n",
       "1      2025-07-05           2025-07-04                     18   \n",
       "2      2025-07-05           2025-07-05                     11   \n",
       "3      2025-07-05           2025-07-05                     12   \n",
       "4      2025-07-05           2025-07-05                     19   \n",
       "...           ...                  ...                    ...   \n",
       "29882  2024-01-02           2024-01-02                     10   \n",
       "29883  2024-01-02           2024-01-01                     17   \n",
       "29884  2024-01-01           2024-01-01                      7   \n",
       "29885  2024-01-01           2024-01-01                     14   \n",
       "29886  2024-01-01           2024-01-01                     19   \n",
       "\n",
       "      TATZEIT_ENDE_DATUM  TATZEIT_ENDE_STUNDE       LOR  SCHADENSHOEHE  \\\n",
       "0             2025-07-05                    2   7200307              0   \n",
       "1             2025-07-05                    9   4300413            999   \n",
       "2             2025-07-05                   11   9401431           1300   \n",
       "3             2025-07-05                   16   6100205            779   \n",
       "4             2025-07-05                   19  12500926            700   \n",
       "...                  ...                  ...       ...            ...   \n",
       "29882         2024-01-02                   10   3601244            308   \n",
       "29883         2024-01-02                   12   4400727           2900   \n",
       "29884         2024-01-01                   13   3701554           6700   \n",
       "29885         2024-01-01                   16   6300632            899   \n",
       "29886         2024-01-01                   19  10300731              1   \n",
       "\n",
       "      VERSUCH   ART_DES_FAHRRADS            DELIKT  \\\n",
       "0        Nein      Herrenfahrrad  Fahrraddiebstahl   \n",
       "1        Nein      Herrenfahrrad  Fahrraddiebstahl   \n",
       "2        Nein       Damenfahrrad  Fahrraddiebstahl   \n",
       "3        Nein            Fahrrad  Fahrraddiebstahl   \n",
       "4        Nein       Damenfahrrad  Fahrraddiebstahl   \n",
       "...       ...                ...               ...   \n",
       "29882    Nein       Damenfahrrad  Fahrraddiebstahl   \n",
       "29883    Nein      Herrenfahrrad  Fahrraddiebstahl   \n",
       "29884    Nein            Fahrrad  Fahrraddiebstahl   \n",
       "29885    Nein  diverse Fahrräder  Fahrraddiebstahl   \n",
       "29886    Nein  diverse Fahrräder  Fahrraddiebstahl   \n",
       "\n",
       "                                   ERFASSUNGSGRUND TATZEIT_ANFANG_WOCHENTAG  \\\n",
       "0      Sonstiger schwerer Diebstahl von Fahrrädern                 Saturday   \n",
       "1      Sonstiger schwerer Diebstahl von Fahrrädern                   Friday   \n",
       "2      Sonstiger schwerer Diebstahl von Fahrrädern                 Saturday   \n",
       "3      Sonstiger schwerer Diebstahl von Fahrrädern                 Saturday   \n",
       "4      Sonstiger schwerer Diebstahl von Fahrrädern                 Saturday   \n",
       "...                                            ...                      ...   \n",
       "29882  Sonstiger schwerer Diebstahl von Fahrrädern                  Tuesday   \n",
       "29883  Sonstiger schwerer Diebstahl von Fahrrädern                   Monday   \n",
       "29884  Sonstiger schwerer Diebstahl von Fahrrädern                   Monday   \n",
       "29885  Sonstiger schwerer Diebstahl von Fahrrädern                   Monday   \n",
       "29886  Sonstiger schwerer Diebstahl von Fahrrädern                   Monday   \n",
       "\n",
       "      TATZEIT_ENDE_WOCHENTAG  \n",
       "0                   Saturday  \n",
       "1                   Saturday  \n",
       "2                   Saturday  \n",
       "3                   Saturday  \n",
       "4                   Saturday  \n",
       "...                      ...  \n",
       "29882                Tuesday  \n",
       "29883                Tuesday  \n",
       "29884                 Monday  \n",
       "29885                 Monday  \n",
       "29886                 Monday  \n",
       "\n",
       "[29887 rows x 13 columns]"
      ]
     },
     "execution_count": 31,
     "metadata": {},
     "output_type": "execute_result"
    }
   ],
   "source": [
    "df"
   ]
  },
  {
   "cell_type": "code",
   "execution_count": 32,
   "id": "8a9aeeb5",
   "metadata": {},
   "outputs": [],
   "source": [
    "df.to_csv('data/Fahrraddiebstahl_cleaned.csv', index=False, encoding='utf-8')"
   ]
  },
  {
   "cell_type": "code",
   "execution_count": 33,
   "id": "d683c6ae",
   "metadata": {},
   "outputs": [
    {
     "data": {
      "application/vnd.microsoft.datawrangler.viewer.v0+json": {
       "columns": [
        {
         "name": "ERFASSUNGSGRUND",
         "rawType": "object",
         "type": "string"
        },
        {
         "name": "count",
         "rawType": "int64",
         "type": "integer"
        }
       ],
       "ref": "c0385d34-9877-47a6-8333-bf3801fc9a5c",
       "rows": [
        [
         "Sonstiger schwerer Diebstahl von Fahrrädern",
         "26699"
        ],
        [
         "Sonstiger schwerer Diebstahl in/aus Keller/Boden von Fahrrädern",
         "1636"
        ],
        [
         "Einfacher Diebstahl von Fahrrädern",
         "1482"
        ],
        [
         "Einfacher Diebstahl aus Keller/Boden von Fahrrädern",
         "70"
        ]
       ],
       "shape": {
        "columns": 1,
        "rows": 4
       }
      },
      "text/plain": [
       "ERFASSUNGSGRUND\n",
       "Sonstiger schwerer Diebstahl von Fahrrädern                        26699\n",
       "Sonstiger schwerer Diebstahl in/aus Keller/Boden von Fahrrädern     1636\n",
       "Einfacher Diebstahl von Fahrrädern                                  1482\n",
       "Einfacher Diebstahl aus Keller/Boden von Fahrrädern                   70\n",
       "Name: count, dtype: int64"
      ]
     },
     "execution_count": 33,
     "metadata": {},
     "output_type": "execute_result"
    }
   ],
   "source": [
    "df['ERFASSUNGSGRUND'].value_counts()"
   ]
  },
  {
   "cell_type": "code",
   "execution_count": null,
   "id": "4e8f9921",
   "metadata": {},
   "outputs": [],
   "source": []
  }
 ],
 "metadata": {
  "kernelspec": {
   "display_name": "Python 3",
   "language": "python",
   "name": "python3"
  },
  "language_info": {
   "codemirror_mode": {
    "name": "ipython",
    "version": 3
   },
   "file_extension": ".py",
   "mimetype": "text/x-python",
   "name": "python",
   "nbconvert_exporter": "python",
   "pygments_lexer": "ipython3",
   "version": "3.12.6"
  }
 },
 "nbformat": 4,
 "nbformat_minor": 5
}
